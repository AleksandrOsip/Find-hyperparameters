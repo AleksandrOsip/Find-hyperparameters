{
 "cells": [
  {
   "cell_type": "markdown",
   "id": "991c6215",
   "metadata": {
    "id": "991c6215"
   },
   "source": [
    "Наша практика будет основана на соревновании [Kaggle: Predicting a Biological Response](https://www.kaggle.com/c/bioresponse) (Прогнозирование биологического ответа).\n",
    "\n",
    "Необходимо предсказать биологический ответ молекул (столбец 'Activity') по их химическому составу (столбцы D1-D1776).\n",
    "\n",
    "Данные представлены в формате CSV.  Каждая строка представляет молекулу. \n",
    "\n",
    "* Первый столбец Activity содержит экспериментальные данные, описывающие фактический биологический ответ [0, 1]; \n",
    "* Остальные столбцы D1-D1776 представляют собой молекулярные **дескрипторы** — это вычисляемые свойства, которые могут фиксировать некоторые характеристики молекулы, например размер, форму или состав элементов."
   ]
  },
  {
   "cell_type": "markdown",
   "id": "ff7eb147",
   "metadata": {
    "id": "ff7eb147"
   },
   "source": [
    "Предварительная обработка не требуется, данные уже закодированы и нормализованы.\n",
    "\n",
    "В качестве метрики будем использовать **F1-score**.\n",
    "\n",
    "Необходимо обучить две модели: **логистическую регрессию и случайный лес**. Далее нужно сделать подбор гиперпараметров с помощью базовых и продвинутых методов оптимизации. Важно использовать **все четыре метода** (GridSearchCV, RandomizedSearchCV, Hyperopt, Optuna) хотя бы по разу, максимальное количество итераций не должно превышать 50."
   ]
  },
  {
   "cell_type": "code",
   "execution_count": 3,
   "id": "f7b2cdcb",
   "metadata": {
    "executionInfo": {
     "elapsed": 285,
     "status": "ok",
     "timestamp": 1680274117302,
     "user": {
      "displayName": "A Osipov",
      "userId": "00108399569825204503"
     },
     "user_tz": -300
    },
    "id": "f7b2cdcb"
   },
   "outputs": [],
   "source": [
    "#импорт библиотек\n",
    "import matplotlib\n",
    "import matplotlib.pyplot as plt  # для визуализации\n",
    "import numpy as np  # для матричных вычислений\n",
    "import pandas as pd  # для анализа и предобработки данных\n",
    "import seaborn as sns  # для визуализации\n",
    "import sklearn\n",
    "# from sklearn import tree #деревья решений\n",
    "from sklearn import ensemble  # ансамбли\n",
    "from sklearn import linear_model  # линейные модели\n",
    "from sklearn import metrics  # метрики\n",
    "# from sklearn import preprocessing #предобработка\n",
    "from sklearn.model_selection import train_test_split  # сплитование выборки\n",
    "\n",
    "# %matplotlib inline\n",
    "# plt.style.use('seaborn')"
   ]
  },
  {
   "cell_type": "code",
   "execution_count": 4,
   "id": "cp3Zw6-RIzp5",
   "metadata": {
    "colab": {
     "base_uri": "https://localhost:8080/"
    },
    "executionInfo": {
     "elapsed": 596,
     "status": "ok",
     "timestamp": 1680274120854,
     "user": {
      "displayName": "A Osipov",
      "userId": "00108399569825204503"
     },
     "user_tz": -300
    },
    "id": "cp3Zw6-RIzp5",
    "outputId": "3acae1d8-1f96-4b48-9a64-2709a19208a4"
   },
   "outputs": [
    {
     "name": "stdout",
     "output_type": "stream",
     "text": [
      "numpy 1.22.4\n",
      "pandas 1.4.4\n",
      "matplotlib 3.7.1\n",
      "seaborn 0.12.2\n",
      "scikit-learn 1.2.2\n"
     ]
    }
   ],
   "source": [
    "print('matplotlib', matplotlib.__version__)\n",
    "print('numpy', np.__version__)\n",
    "print('pandas', pd.__version__)\n",
    "print('seaborn', sns.__version__)\n",
    "print('scikit-learn', sklearn.__version__)"
   ]
  },
  {
   "cell_type": "markdown",
   "id": "96df53fa",
   "metadata": {
    "id": "96df53fa"
   },
   "source": [
    "### Знакомство с данными и их исследование"
   ]
  },
  {
   "cell_type": "code",
   "execution_count": 5,
   "id": "0bb54ad4",
   "metadata": {
    "colab": {
     "base_uri": "https://localhost:8080/",
     "height": 300
    },
    "executionInfo": {
     "elapsed": 578,
     "status": "ok",
     "timestamp": 1680272617311,
     "user": {
      "displayName": "A Osipov",
      "userId": "00108399569825204503"
     },
     "user_tz": -300
    },
    "id": "0bb54ad4",
    "outputId": "966f06bb-1e71-4c47-9e89-4ca0e1a82735"
   },
   "outputs": [
    {
     "data": {
      "text/html": [
       "<div>\n",
       "<style scoped>\n",
       "    .dataframe tbody tr th:only-of-type {\n",
       "        vertical-align: middle;\n",
       "    }\n",
       "\n",
       "    .dataframe tbody tr th {\n",
       "        vertical-align: top;\n",
       "    }\n",
       "\n",
       "    .dataframe thead th {\n",
       "        text-align: right;\n",
       "    }\n",
       "</style>\n",
       "<table border=\"1\" class=\"dataframe\">\n",
       "  <thead>\n",
       "    <tr style=\"text-align: right;\">\n",
       "      <th></th>\n",
       "      <th>Activity</th>\n",
       "      <th>D1</th>\n",
       "      <th>D2</th>\n",
       "      <th>D3</th>\n",
       "      <th>D4</th>\n",
       "      <th>D5</th>\n",
       "      <th>D6</th>\n",
       "      <th>D7</th>\n",
       "      <th>D8</th>\n",
       "      <th>D9</th>\n",
       "      <th>...</th>\n",
       "      <th>D1767</th>\n",
       "      <th>D1768</th>\n",
       "      <th>D1769</th>\n",
       "      <th>D1770</th>\n",
       "      <th>D1771</th>\n",
       "      <th>D1772</th>\n",
       "      <th>D1773</th>\n",
       "      <th>D1774</th>\n",
       "      <th>D1775</th>\n",
       "      <th>D1776</th>\n",
       "    </tr>\n",
       "  </thead>\n",
       "  <tbody>\n",
       "    <tr>\n",
       "      <th>0</th>\n",
       "      <td>1</td>\n",
       "      <td>0.000000</td>\n",
       "      <td>0.497009</td>\n",
       "      <td>0.10</td>\n",
       "      <td>0.0</td>\n",
       "      <td>0.132956</td>\n",
       "      <td>0.678031</td>\n",
       "      <td>0.273166</td>\n",
       "      <td>0.585445</td>\n",
       "      <td>0.743663</td>\n",
       "      <td>...</td>\n",
       "      <td>0</td>\n",
       "      <td>0</td>\n",
       "      <td>0</td>\n",
       "      <td>0</td>\n",
       "      <td>0</td>\n",
       "      <td>0</td>\n",
       "      <td>0</td>\n",
       "      <td>0</td>\n",
       "      <td>0</td>\n",
       "      <td>0</td>\n",
       "    </tr>\n",
       "    <tr>\n",
       "      <th>1</th>\n",
       "      <td>1</td>\n",
       "      <td>0.366667</td>\n",
       "      <td>0.606291</td>\n",
       "      <td>0.05</td>\n",
       "      <td>0.0</td>\n",
       "      <td>0.111209</td>\n",
       "      <td>0.803455</td>\n",
       "      <td>0.106105</td>\n",
       "      <td>0.411754</td>\n",
       "      <td>0.836582</td>\n",
       "      <td>...</td>\n",
       "      <td>1</td>\n",
       "      <td>1</td>\n",
       "      <td>1</td>\n",
       "      <td>1</td>\n",
       "      <td>0</td>\n",
       "      <td>1</td>\n",
       "      <td>0</td>\n",
       "      <td>0</td>\n",
       "      <td>1</td>\n",
       "      <td>0</td>\n",
       "    </tr>\n",
       "    <tr>\n",
       "      <th>2</th>\n",
       "      <td>1</td>\n",
       "      <td>0.033300</td>\n",
       "      <td>0.480124</td>\n",
       "      <td>0.00</td>\n",
       "      <td>0.0</td>\n",
       "      <td>0.209791</td>\n",
       "      <td>0.610350</td>\n",
       "      <td>0.356453</td>\n",
       "      <td>0.517720</td>\n",
       "      <td>0.679051</td>\n",
       "      <td>...</td>\n",
       "      <td>0</td>\n",
       "      <td>0</td>\n",
       "      <td>0</td>\n",
       "      <td>0</td>\n",
       "      <td>0</td>\n",
       "      <td>0</td>\n",
       "      <td>0</td>\n",
       "      <td>0</td>\n",
       "      <td>0</td>\n",
       "      <td>0</td>\n",
       "    </tr>\n",
       "    <tr>\n",
       "      <th>3</th>\n",
       "      <td>1</td>\n",
       "      <td>0.000000</td>\n",
       "      <td>0.538825</td>\n",
       "      <td>0.00</td>\n",
       "      <td>0.5</td>\n",
       "      <td>0.196344</td>\n",
       "      <td>0.724230</td>\n",
       "      <td>0.235606</td>\n",
       "      <td>0.288764</td>\n",
       "      <td>0.805110</td>\n",
       "      <td>...</td>\n",
       "      <td>0</td>\n",
       "      <td>0</td>\n",
       "      <td>0</td>\n",
       "      <td>0</td>\n",
       "      <td>0</td>\n",
       "      <td>0</td>\n",
       "      <td>0</td>\n",
       "      <td>0</td>\n",
       "      <td>0</td>\n",
       "      <td>0</td>\n",
       "    </tr>\n",
       "    <tr>\n",
       "      <th>4</th>\n",
       "      <td>0</td>\n",
       "      <td>0.100000</td>\n",
       "      <td>0.517794</td>\n",
       "      <td>0.00</td>\n",
       "      <td>0.0</td>\n",
       "      <td>0.494734</td>\n",
       "      <td>0.781422</td>\n",
       "      <td>0.154361</td>\n",
       "      <td>0.303809</td>\n",
       "      <td>0.812646</td>\n",
       "      <td>...</td>\n",
       "      <td>0</td>\n",
       "      <td>0</td>\n",
       "      <td>0</td>\n",
       "      <td>0</td>\n",
       "      <td>0</td>\n",
       "      <td>0</td>\n",
       "      <td>0</td>\n",
       "      <td>0</td>\n",
       "      <td>0</td>\n",
       "      <td>0</td>\n",
       "    </tr>\n",
       "  </tbody>\n",
       "</table>\n",
       "<p>5 rows × 1777 columns</p>\n",
       "</div>"
      ],
      "text/plain": [
       "   Activity        D1        D2    D3   D4        D5        D6        D7  \\\n",
       "0         1  0.000000  0.497009  0.10  0.0  0.132956  0.678031  0.273166   \n",
       "1         1  0.366667  0.606291  0.05  0.0  0.111209  0.803455  0.106105   \n",
       "2         1  0.033300  0.480124  0.00  0.0  0.209791  0.610350  0.356453   \n",
       "3         1  0.000000  0.538825  0.00  0.5  0.196344  0.724230  0.235606   \n",
       "4         0  0.100000  0.517794  0.00  0.0  0.494734  0.781422  0.154361   \n",
       "\n",
       "         D8        D9  ...  D1767  D1768  D1769  D1770  D1771  D1772  D1773  \\\n",
       "0  0.585445  0.743663  ...      0      0      0      0      0      0      0   \n",
       "1  0.411754  0.836582  ...      1      1      1      1      0      1      0   \n",
       "2  0.517720  0.679051  ...      0      0      0      0      0      0      0   \n",
       "3  0.288764  0.805110  ...      0      0      0      0      0      0      0   \n",
       "4  0.303809  0.812646  ...      0      0      0      0      0      0      0   \n",
       "\n",
       "   D1774  D1775  D1776  \n",
       "0      0      0      0  \n",
       "1      0      1      0  \n",
       "2      0      0      0  \n",
       "3      0      0      0  \n",
       "4      0      0      0  \n",
       "\n",
       "[5 rows x 1777 columns]"
      ]
     },
     "execution_count": 5,
     "metadata": {},
     "output_type": "execute_result"
    }
   ],
   "source": [
    "data = pd.read_csv(r'C:\\Users\\User\\SkillFactory\\data\\_train_sem09__1_.zip')\n",
    "# data = pd.read_csv('/content/drive/MyDrive/Skillfactory/data/_train_sem09__1_.zip')\n",
    "data.head()"
   ]
  },
  {
   "cell_type": "code",
   "execution_count": 6,
   "id": "429c08c6",
   "metadata": {
    "colab": {
     "base_uri": "https://localhost:8080/"
    },
    "executionInfo": {
     "elapsed": 34,
     "status": "ok",
     "timestamp": 1680272617313,
     "user": {
      "displayName": "A Osipov",
      "userId": "00108399569825204503"
     },
     "user_tz": -300
    },
    "id": "429c08c6",
    "outputId": "1d60bc2a-2637-4fce-eed7-7111401a0e46"
   },
   "outputs": [
    {
     "name": "stdout",
     "output_type": "stream",
     "text": [
      "<class 'pandas.core.frame.DataFrame'>\n",
      "RangeIndex: 3751 entries, 0 to 3750\n",
      "Columns: 1777 entries, Activity to D1776\n",
      "dtypes: float64(942), int64(835)\n",
      "memory usage: 50.9 MB\n"
     ]
    }
   ],
   "source": [
    "data.info()"
   ]
  },
  {
   "cell_type": "markdown",
   "id": "f3c3bfc3",
   "metadata": {
    "id": "f3c3bfc3"
   },
   "source": [
    "Проверяем наличие пропусков"
   ]
  },
  {
   "cell_type": "code",
   "execution_count": 7,
   "id": "7156da3f",
   "metadata": {
    "colab": {
     "base_uri": "https://localhost:8080/"
    },
    "executionInfo": {
     "elapsed": 25,
     "status": "ok",
     "timestamp": 1680272617314,
     "user": {
      "displayName": "A Osipov",
      "userId": "00108399569825204503"
     },
     "user_tz": -300
    },
    "id": "7156da3f",
    "outputId": "0bee5c84-fae6-454c-b272-2909c8d11071"
   },
   "outputs": [
    {
     "data": {
      "text/plain": [
       "array([0], dtype=int64)"
      ]
     },
     "execution_count": 7,
     "metadata": {},
     "output_type": "execute_result"
    }
   ],
   "source": [
    "data.isnull().sum().unique() # Пропусков нет."
   ]
  },
  {
   "cell_type": "code",
   "execution_count": 8,
   "id": "fb08bd8f",
   "metadata": {
    "colab": {
     "base_uri": "https://localhost:8080/",
     "height": 394
    },
    "executionInfo": {
     "elapsed": 2739,
     "status": "ok",
     "timestamp": 1680272620034,
     "user": {
      "displayName": "A Osipov",
      "userId": "00108399569825204503"
     },
     "user_tz": -300
    },
    "id": "fb08bd8f",
    "outputId": "250178b7-0d7d-48fb-dc88-2797ae7b822c"
   },
   "outputs": [
    {
     "data": {
      "text/html": [
       "<div>\n",
       "<style scoped>\n",
       "    .dataframe tbody tr th:only-of-type {\n",
       "        vertical-align: middle;\n",
       "    }\n",
       "\n",
       "    .dataframe tbody tr th {\n",
       "        vertical-align: top;\n",
       "    }\n",
       "\n",
       "    .dataframe thead th {\n",
       "        text-align: right;\n",
       "    }\n",
       "</style>\n",
       "<table border=\"1\" class=\"dataframe\">\n",
       "  <thead>\n",
       "    <tr style=\"text-align: right;\">\n",
       "      <th></th>\n",
       "      <th>Activity</th>\n",
       "      <th>D1</th>\n",
       "      <th>D2</th>\n",
       "      <th>D3</th>\n",
       "      <th>D4</th>\n",
       "      <th>D5</th>\n",
       "      <th>D6</th>\n",
       "      <th>D7</th>\n",
       "      <th>D8</th>\n",
       "      <th>D9</th>\n",
       "      <th>...</th>\n",
       "      <th>D1767</th>\n",
       "      <th>D1768</th>\n",
       "      <th>D1769</th>\n",
       "      <th>D1770</th>\n",
       "      <th>D1771</th>\n",
       "      <th>D1772</th>\n",
       "      <th>D1773</th>\n",
       "      <th>D1774</th>\n",
       "      <th>D1775</th>\n",
       "      <th>D1776</th>\n",
       "    </tr>\n",
       "  </thead>\n",
       "  <tbody>\n",
       "    <tr>\n",
       "      <th>count</th>\n",
       "      <td>3751.000000</td>\n",
       "      <td>3751.000000</td>\n",
       "      <td>3751.000000</td>\n",
       "      <td>3751.000000</td>\n",
       "      <td>3751.000000</td>\n",
       "      <td>3751.000000</td>\n",
       "      <td>3751.000000</td>\n",
       "      <td>3751.000000</td>\n",
       "      <td>3751.000000</td>\n",
       "      <td>3751.000000</td>\n",
       "      <td>...</td>\n",
       "      <td>3751.000000</td>\n",
       "      <td>3751.000000</td>\n",
       "      <td>3751.000000</td>\n",
       "      <td>3751.000000</td>\n",
       "      <td>3751.000000</td>\n",
       "      <td>3751.000000</td>\n",
       "      <td>3751.000000</td>\n",
       "      <td>3751.000000</td>\n",
       "      <td>3751.000000</td>\n",
       "      <td>3751.000000</td>\n",
       "    </tr>\n",
       "    <tr>\n",
       "      <th>mean</th>\n",
       "      <td>0.542255</td>\n",
       "      <td>0.076948</td>\n",
       "      <td>0.592436</td>\n",
       "      <td>0.068142</td>\n",
       "      <td>0.038990</td>\n",
       "      <td>0.212112</td>\n",
       "      <td>0.686653</td>\n",
       "      <td>0.274713</td>\n",
       "      <td>0.455133</td>\n",
       "      <td>0.749517</td>\n",
       "      <td>...</td>\n",
       "      <td>0.026926</td>\n",
       "      <td>0.014663</td>\n",
       "      <td>0.013863</td>\n",
       "      <td>0.021861</td>\n",
       "      <td>0.015196</td>\n",
       "      <td>0.016796</td>\n",
       "      <td>0.012263</td>\n",
       "      <td>0.011730</td>\n",
       "      <td>0.020261</td>\n",
       "      <td>0.011197</td>\n",
       "    </tr>\n",
       "    <tr>\n",
       "      <th>std</th>\n",
       "      <td>0.498278</td>\n",
       "      <td>0.079989</td>\n",
       "      <td>0.105860</td>\n",
       "      <td>0.078414</td>\n",
       "      <td>0.115885</td>\n",
       "      <td>0.102592</td>\n",
       "      <td>0.078702</td>\n",
       "      <td>0.090017</td>\n",
       "      <td>0.162731</td>\n",
       "      <td>0.071702</td>\n",
       "      <td>...</td>\n",
       "      <td>0.161889</td>\n",
       "      <td>0.120215</td>\n",
       "      <td>0.116938</td>\n",
       "      <td>0.146249</td>\n",
       "      <td>0.122348</td>\n",
       "      <td>0.128522</td>\n",
       "      <td>0.110074</td>\n",
       "      <td>0.107683</td>\n",
       "      <td>0.140911</td>\n",
       "      <td>0.105236</td>\n",
       "    </tr>\n",
       "    <tr>\n",
       "      <th>min</th>\n",
       "      <td>0.000000</td>\n",
       "      <td>0.000000</td>\n",
       "      <td>0.282128</td>\n",
       "      <td>0.000000</td>\n",
       "      <td>0.000000</td>\n",
       "      <td>0.002630</td>\n",
       "      <td>0.137873</td>\n",
       "      <td>0.006130</td>\n",
       "      <td>0.000000</td>\n",
       "      <td>0.275590</td>\n",
       "      <td>...</td>\n",
       "      <td>0.000000</td>\n",
       "      <td>0.000000</td>\n",
       "      <td>0.000000</td>\n",
       "      <td>0.000000</td>\n",
       "      <td>0.000000</td>\n",
       "      <td>0.000000</td>\n",
       "      <td>0.000000</td>\n",
       "      <td>0.000000</td>\n",
       "      <td>0.000000</td>\n",
       "      <td>0.000000</td>\n",
       "    </tr>\n",
       "    <tr>\n",
       "      <th>25%</th>\n",
       "      <td>0.000000</td>\n",
       "      <td>0.033300</td>\n",
       "      <td>0.517811</td>\n",
       "      <td>0.000000</td>\n",
       "      <td>0.000000</td>\n",
       "      <td>0.138118</td>\n",
       "      <td>0.625627</td>\n",
       "      <td>0.207374</td>\n",
       "      <td>0.378062</td>\n",
       "      <td>0.707339</td>\n",
       "      <td>...</td>\n",
       "      <td>0.000000</td>\n",
       "      <td>0.000000</td>\n",
       "      <td>0.000000</td>\n",
       "      <td>0.000000</td>\n",
       "      <td>0.000000</td>\n",
       "      <td>0.000000</td>\n",
       "      <td>0.000000</td>\n",
       "      <td>0.000000</td>\n",
       "      <td>0.000000</td>\n",
       "      <td>0.000000</td>\n",
       "    </tr>\n",
       "    <tr>\n",
       "      <th>50%</th>\n",
       "      <td>1.000000</td>\n",
       "      <td>0.066700</td>\n",
       "      <td>0.585989</td>\n",
       "      <td>0.050000</td>\n",
       "      <td>0.000000</td>\n",
       "      <td>0.190926</td>\n",
       "      <td>0.674037</td>\n",
       "      <td>0.277845</td>\n",
       "      <td>0.499942</td>\n",
       "      <td>0.738961</td>\n",
       "      <td>...</td>\n",
       "      <td>0.000000</td>\n",
       "      <td>0.000000</td>\n",
       "      <td>0.000000</td>\n",
       "      <td>0.000000</td>\n",
       "      <td>0.000000</td>\n",
       "      <td>0.000000</td>\n",
       "      <td>0.000000</td>\n",
       "      <td>0.000000</td>\n",
       "      <td>0.000000</td>\n",
       "      <td>0.000000</td>\n",
       "    </tr>\n",
       "    <tr>\n",
       "      <th>75%</th>\n",
       "      <td>1.000000</td>\n",
       "      <td>0.100000</td>\n",
       "      <td>0.668395</td>\n",
       "      <td>0.100000</td>\n",
       "      <td>0.000000</td>\n",
       "      <td>0.261726</td>\n",
       "      <td>0.740663</td>\n",
       "      <td>0.335816</td>\n",
       "      <td>0.569962</td>\n",
       "      <td>0.788177</td>\n",
       "      <td>...</td>\n",
       "      <td>0.000000</td>\n",
       "      <td>0.000000</td>\n",
       "      <td>0.000000</td>\n",
       "      <td>0.000000</td>\n",
       "      <td>0.000000</td>\n",
       "      <td>0.000000</td>\n",
       "      <td>0.000000</td>\n",
       "      <td>0.000000</td>\n",
       "      <td>0.000000</td>\n",
       "      <td>0.000000</td>\n",
       "    </tr>\n",
       "    <tr>\n",
       "      <th>max</th>\n",
       "      <td>1.000000</td>\n",
       "      <td>1.000000</td>\n",
       "      <td>0.964381</td>\n",
       "      <td>0.950000</td>\n",
       "      <td>1.000000</td>\n",
       "      <td>1.000000</td>\n",
       "      <td>0.994735</td>\n",
       "      <td>0.790831</td>\n",
       "      <td>0.989870</td>\n",
       "      <td>1.000000</td>\n",
       "      <td>...</td>\n",
       "      <td>1.000000</td>\n",
       "      <td>1.000000</td>\n",
       "      <td>1.000000</td>\n",
       "      <td>1.000000</td>\n",
       "      <td>1.000000</td>\n",
       "      <td>1.000000</td>\n",
       "      <td>1.000000</td>\n",
       "      <td>1.000000</td>\n",
       "      <td>1.000000</td>\n",
       "      <td>1.000000</td>\n",
       "    </tr>\n",
       "  </tbody>\n",
       "</table>\n",
       "<p>8 rows × 1777 columns</p>\n",
       "</div>"
      ],
      "text/plain": [
       "          Activity           D1           D2           D3           D4  \\\n",
       "count  3751.000000  3751.000000  3751.000000  3751.000000  3751.000000   \n",
       "mean      0.542255     0.076948     0.592436     0.068142     0.038990   \n",
       "std       0.498278     0.079989     0.105860     0.078414     0.115885   \n",
       "min       0.000000     0.000000     0.282128     0.000000     0.000000   \n",
       "25%       0.000000     0.033300     0.517811     0.000000     0.000000   \n",
       "50%       1.000000     0.066700     0.585989     0.050000     0.000000   \n",
       "75%       1.000000     0.100000     0.668395     0.100000     0.000000   \n",
       "max       1.000000     1.000000     0.964381     0.950000     1.000000   \n",
       "\n",
       "                D5           D6           D7           D8           D9  ...  \\\n",
       "count  3751.000000  3751.000000  3751.000000  3751.000000  3751.000000  ...   \n",
       "mean      0.212112     0.686653     0.274713     0.455133     0.749517  ...   \n",
       "std       0.102592     0.078702     0.090017     0.162731     0.071702  ...   \n",
       "min       0.002630     0.137873     0.006130     0.000000     0.275590  ...   \n",
       "25%       0.138118     0.625627     0.207374     0.378062     0.707339  ...   \n",
       "50%       0.190926     0.674037     0.277845     0.499942     0.738961  ...   \n",
       "75%       0.261726     0.740663     0.335816     0.569962     0.788177  ...   \n",
       "max       1.000000     0.994735     0.790831     0.989870     1.000000  ...   \n",
       "\n",
       "             D1767        D1768        D1769        D1770        D1771  \\\n",
       "count  3751.000000  3751.000000  3751.000000  3751.000000  3751.000000   \n",
       "mean      0.026926     0.014663     0.013863     0.021861     0.015196   \n",
       "std       0.161889     0.120215     0.116938     0.146249     0.122348   \n",
       "min       0.000000     0.000000     0.000000     0.000000     0.000000   \n",
       "25%       0.000000     0.000000     0.000000     0.000000     0.000000   \n",
       "50%       0.000000     0.000000     0.000000     0.000000     0.000000   \n",
       "75%       0.000000     0.000000     0.000000     0.000000     0.000000   \n",
       "max       1.000000     1.000000     1.000000     1.000000     1.000000   \n",
       "\n",
       "             D1772        D1773        D1774        D1775        D1776  \n",
       "count  3751.000000  3751.000000  3751.000000  3751.000000  3751.000000  \n",
       "mean      0.016796     0.012263     0.011730     0.020261     0.011197  \n",
       "std       0.128522     0.110074     0.107683     0.140911     0.105236  \n",
       "min       0.000000     0.000000     0.000000     0.000000     0.000000  \n",
       "25%       0.000000     0.000000     0.000000     0.000000     0.000000  \n",
       "50%       0.000000     0.000000     0.000000     0.000000     0.000000  \n",
       "75%       0.000000     0.000000     0.000000     0.000000     0.000000  \n",
       "max       1.000000     1.000000     1.000000     1.000000     1.000000  \n",
       "\n",
       "[8 rows x 1777 columns]"
      ]
     },
     "execution_count": 8,
     "metadata": {},
     "output_type": "execute_result"
    }
   ],
   "source": [
    "data.describe()"
   ]
  },
  {
   "cell_type": "markdown",
   "id": "a09c135a",
   "metadata": {
    "id": "a09c135a"
   },
   "source": [
    "Смотрим на сбалансированность классов:"
   ]
  },
  {
   "cell_type": "code",
   "execution_count": 9,
   "id": "eb2d4209",
   "metadata": {
    "colab": {
     "base_uri": "https://localhost:8080/",
     "height": 466
    },
    "executionInfo": {
     "elapsed": 915,
     "status": "ok",
     "timestamp": 1680272620877,
     "user": {
      "displayName": "A Osipov",
      "userId": "00108399569825204503"
     },
     "user_tz": -300
    },
    "id": "eb2d4209",
    "outputId": "46513421-0db7-403e-9801-5d14357ce242"
   },
   "outputs": [
    {
     "data": {
      "text/plain": [
       "<Axes: xlabel='Activity', ylabel='count'>"
      ]
     },
     "execution_count": 9,
     "metadata": {},
     "output_type": "execute_result"
    },
    {
     "data": {
      "image/png": "[encoded data removed]",
      "text/plain": [
       "<Figure size 640x480 with 1 Axes>"
      ]
     },
     "metadata": {},
     "output_type": "display_data"
    }
   ],
   "source": [
    "sns.countplot(data=data, x='Activity')"
   ]
  },
  {
   "cell_type": "markdown",
   "id": "f90b6055",
   "metadata": {
    "id": "f90b6055"
   },
   "source": [
    "Создаем матрицу наблюдений $X$ и вектор ответов $y$"
   ]
  },
  {
   "cell_type": "code",
   "execution_count": 10,
   "id": "108a32ee",
   "metadata": {
    "executionInfo": {
     "elapsed": 31,
     "status": "ok",
     "timestamp": 1680272620879,
     "user": {
      "displayName": "A Osipov",
      "userId": "00108399569825204503"
     },
     "user_tz": -300
    },
    "id": "108a32ee"
   },
   "outputs": [],
   "source": [
    "X = data.drop(['Activity'], axis=1)\n",
    "y = data['Activity']"
   ]
  },
  {
   "cell_type": "markdown",
   "id": "b5e6a6e9",
   "metadata": {
    "id": "b5e6a6e9"
   },
   "source": [
    "Разделяем выборку на тренировочную и тестовую в соотношении 80/20. Для сохранения соотношений целевого признака используем параметр stratify (стратифицированное разбиение)."
   ]
  },
  {
   "cell_type": "code",
   "execution_count": 11,
   "id": "86ea3d6e",
   "metadata": {
    "executionInfo": {
     "elapsed": 30,
     "status": "ok",
     "timestamp": 1680272620880,
     "user": {
      "displayName": "A Osipov",
      "userId": "00108399569825204503"
     },
     "user_tz": -300
    },
    "id": "86ea3d6e"
   },
   "outputs": [],
   "source": [
    "X_train, X_test, y_train, y_test = train_test_split(X, y, stratify=y, random_state=1, test_size=0.2)"
   ]
  },
  {
   "cell_type": "markdown",
   "id": "4f71e74f",
   "metadata": {
    "id": "4f71e74f"
   },
   "source": [
    "### Оптимизация гиперпараметров модели"
   ]
  },
  {
   "cell_type": "markdown",
   "id": "99b60637",
   "metadata": {
    "id": "99b60637"
   },
   "source": [
    "#### **Логистическая регрессия**"
   ]
  },
  {
   "cell_type": "markdown",
   "id": "44b1bcfe",
   "metadata": {
    "id": "44b1bcfe"
   },
   "source": [
    "Зафиксируем только метрики, которые были получены без дополнительной настройки, т.е со значениями гиперпараметров, установленных по умолчанию:"
   ]
  },
  {
   "cell_type": "code",
   "execution_count": 12,
   "id": "34ef511a",
   "metadata": {
    "colab": {
     "base_uri": "https://localhost:8080/"
    },
    "executionInfo": {
     "elapsed": 29,
     "status": "ok",
     "timestamp": 1680272620882,
     "user": {
      "displayName": "A Osipov",
      "userId": "00108399569825204503"
     },
     "user_tz": -300
    },
    "id": "34ef511a",
    "outputId": "ee689a92-b96e-48c3-83d9-a43286fad520"
   },
   "outputs": [
    {
     "name": "stdout",
     "output_type": "stream",
     "text": [
      "accuracy на тестовом наборе: 0.76\n",
      "f1_score на тестовом наборе: 0.78\n"
     ]
    },
    {
     "name": "stderr",
     "output_type": "stream",
     "text": [
      "E:\\ProgramData7\\Anaconda3\\envs\\Find hyperparameters\\lib\\site-packages\\sklearn\\linear_model\\_logistic.py:458: ConvergenceWarning: lbfgs failed to converge (status=1):\n",
      "STOP: TOTAL NO. of ITERATIONS REACHED LIMIT.\n",
      "\n",
      "Increase the number of iterations (max_iter) or scale the data as shown in:\n",
      "    https://scikit-learn.org/stable/modules/preprocessing.html\n",
      "Please also refer to the documentation for alternative solver options:\n",
      "    https://scikit-learn.org/stable/modules/linear_model.html#logistic-regression\n",
      "  n_iter_i = _check_optimize_result(\n"
     ]
    }
   ],
   "source": [
    "#Создаем объект класса логистическая регрессия\n",
    "log_reg = linear_model.LogisticRegression()\n",
    "#Обучаем модель, минимизируя logloss\n",
    "log_reg.fit(X_train, y_train)\n",
    "print(\"accuracy на тестовом наборе: {:.2f}\".format(log_reg.score(X_test, y_test)))\n",
    "y_test_pred = log_reg.predict(X_test)\n",
    "print('f1_score на тестовом наборе: {:.2f}'.format(metrics.f1_score(y_test, y_test_pred)))"
   ]
  },
  {
   "cell_type": "markdown",
   "id": "50acabb3",
   "metadata": {
    "id": "50acabb3"
   },
   "source": [
    "**Случайный лес**\n",
    "\n",
    "Проделаем аналогичное для RandomForestClassifier(). Сначала посчитаем модель с параметрами по умолчанию и оценим метрику:"
   ]
  },
  {
   "cell_type": "code",
   "execution_count": 13,
   "id": "e642bb1e",
   "metadata": {
    "colab": {
     "base_uri": "https://localhost:8080/"
    },
    "executionInfo": {
     "elapsed": 2980,
     "status": "ok",
     "timestamp": 1680272623844,
     "user": {
      "displayName": "A Osipov",
      "userId": "00108399569825204503"
     },
     "user_tz": -300
    },
    "id": "e642bb1e",
    "outputId": "856642ac-6c0a-4ca7-a9d9-13166df76487"
   },
   "outputs": [
    {
     "name": "stdout",
     "output_type": "stream",
     "text": [
      "f1_score на тренировочном наборе: 1.00\n",
      "f1_score на тестовом наборе: 0.81\n"
     ]
    }
   ],
   "source": [
    "#Создаем объект класса случайный лес\n",
    "rf = ensemble.RandomForestClassifier(random_state=42)\n",
    "\n",
    "#Обучаем модель\n",
    "rf.fit(X_train, y_train)\n",
    "#Выводим значения метрики \n",
    "y_train_pred = rf.predict(X_train)\n",
    "print('f1_score на тренировочном наборе: {:.2f}'.format(metrics.f1_score(y_train, y_train_pred)))\n",
    "y_test_pred = rf.predict(X_test)\n",
    "print('f1_score на тестовом наборе: {:.2f}'.format(metrics.f1_score(y_test, y_test_pred)))"
   ]
  },
  {
   "cell_type": "markdown",
   "id": "ed01d5ff",
   "metadata": {
    "id": "ed01d5ff"
   },
   "source": [
    "### <center> **GridSearchCV**"
   ]
  },
  {
   "cell_type": "markdown",
   "id": "684b80bb",
   "metadata": {
    "id": "684b80bb"
   },
   "source": [
    "**Для логистической регрессии**"
   ]
  },
  {
   "cell_type": "code",
   "execution_count": 14,
   "id": "dfab0946",
   "metadata": {
    "colab": {
     "base_uri": "https://localhost:8080/"
    },
    "executionInfo": {
     "elapsed": 24688,
     "status": "ok",
     "timestamp": 1680272648519,
     "user": {
      "displayName": "A Osipov",
      "userId": "00108399569825204503"
     },
     "user_tz": -300
    },
    "id": "dfab0946",
    "outputId": "cabafcef-4ee3-472f-cf22-c62e41fe75bc"
   },
   "outputs": [
    {
     "name": "stdout",
     "output_type": "stream",
     "text": [
      "CPU times: total: 7 s\n",
      "Wall time: 57.4 s\n",
      "accuracy на тестовом наборе: 0.76\n",
      "f1_score на тестовом наборе: 0.78\n",
      "Наилучшие значения гиперпараметров: {'penalty': 'l2', 'solver': 'saga'}\n"
     ]
    },
    {
     "name": "stderr",
     "output_type": "stream",
     "text": [
      "E:\\ProgramData7\\Anaconda3\\envs\\Find hyperparameters\\lib\\site-packages\\sklearn\\linear_model\\_sag.py:350: ConvergenceWarning: The max_iter was reached which means the coef_ did not converge\n",
      "  warnings.warn(\n"
     ]
    }
   ],
   "source": [
    "from sklearn.model_selection import GridSearchCV\n",
    "\n",
    "param_grid = {'penalty': ['l2', 'none'], #тип регурялизации\n",
    "              'solver': ['lbfgs', 'saga'], #алгоритм оптимизации\n",
    "              }\n",
    "grid_search = GridSearchCV(\n",
    "    estimator=linear_model.LogisticRegression(\n",
    "        random_state=42, #генератор случайных чисел\n",
    "        max_iter=50 #количество итераций на сходимость\n",
    "                                              ), \n",
    "    param_grid=param_grid, \n",
    "    cv=5, \n",
    "    n_jobs=-1\n",
    "                          )  \n",
    "%time grid_search.fit(X_train, y_train) \n",
    "print(\"accuracy на тестовом наборе: {:.2f}\".format(grid_search.score(X_test, y_test)))\n",
    "y_test_pred = grid_search.predict(X_test)\n",
    "print('f1_score на тестовом наборе: {:.2f}'.format(metrics.f1_score(y_test, y_test_pred)))\n",
    "print(\"Наилучшие значения гиперпараметров: {}\".format(grid_search.best_params_))"
   ]
  },
  {
   "cell_type": "markdown",
   "id": "21b5a38a",
   "metadata": {
    "id": "21b5a38a"
   },
   "source": [
    "Значение метрики не изменилось, но это значит лишь, что мы не нашли комбинацию внешних параметров лучше, чем заданы по умолчанию. Это не удивительно и достаточно часто исходные гиперпараметры дают неплохой результат, но это не повод останавливаться."
   ]
  },
  {
   "cell_type": "markdown",
   "id": "b0637d06",
   "metadata": {
    "id": "b0637d06"
   },
   "source": [
    "**Попробуем расширить сетку гиперпараметров.**"
   ]
  },
  {
   "cell_type": "code",
   "execution_count": 15,
   "id": "045ee21a",
   "metadata": {
    "colab": {
     "base_uri": "https://localhost:8080/"
    },
    "executionInfo": {
     "elapsed": 317335,
     "status": "ok",
     "timestamp": 1680272965824,
     "user": {
      "displayName": "A Osipov",
      "userId": "00108399569825204503"
     },
     "user_tz": -300
    },
    "id": "045ee21a",
    "outputId": "5c8558c1-bbf6-400b-ac44-c9a6e1e903a8"
   },
   "outputs": [
    {
     "name": "stdout",
     "output_type": "stream",
     "text": [
      "CPU times: total: 3.79 s\n",
      "Wall time: 8min 42s\n",
      "f1_score на тестовом наборе: 0.79\n",
      "Наилучшие значения гиперпараметров: {'C': 0.1, 'penalty': 'l2', 'solver': 'lbfgs'}\n"
     ]
    },
    {
     "name": "stderr",
     "output_type": "stream",
     "text": [
      "E:\\ProgramData7\\Anaconda3\\envs\\Find hyperparameters\\lib\\site-packages\\sklearn\\linear_model\\_logistic.py:458: ConvergenceWarning: lbfgs failed to converge (status=1):\n",
      "STOP: TOTAL NO. of ITERATIONS REACHED LIMIT.\n",
      "\n",
      "Increase the number of iterations (max_iter) or scale the data as shown in:\n",
      "    https://scikit-learn.org/stable/modules/preprocessing.html\n",
      "Please also refer to the documentation for alternative solver options:\n",
      "    https://scikit-learn.org/stable/modules/linear_model.html#logistic-regression\n",
      "  n_iter_i = _check_optimize_result(\n"
     ]
    }
   ],
   "source": [
    "param_grid = [\n",
    "              {'penalty': ['l2', 'none'], # тип регуляризации\n",
    "              'solver': ['lbfgs', 'sag'], # алгоритм оптимизации\n",
    "               'C': [0.01, 0.1, 0.3, 0.5, 0.7, 0.9, 1]}, # уровень силы регурялизации\n",
    "              \n",
    "              {'penalty': ['l1', 'l2'],\n",
    "              'solver': ['liblinear', 'saga'],\n",
    "               'C': [0.01, 0.1, 0.3, 0.5, 0.7, 0.9, 1]}\n",
    "]\n",
    "grid_search_1 = GridSearchCV(\n",
    "    estimator=linear_model.LogisticRegression(\n",
    "        random_state=42, #генератор случайных чисел\n",
    "        max_iter=50 #количество итераций на сходимость\n",
    "                                              ), \n",
    "    param_grid=param_grid, \n",
    "    cv=5, \n",
    "    n_jobs=-1\n",
    "                            )  \n",
    "%time grid_search_1.fit(X_train, y_train)\n",
    "y_test_pred = grid_search_1.predict(X_test)\n",
    "print('f1_score на тестовом наборе: {:.2f}'.format(metrics.f1_score(y_test, y_test_pred)))\n",
    "print(\"Наилучшие значения гиперпараметров: {}\".format(grid_search_1.best_params_))"
   ]
  },
  {
   "cell_type": "markdown",
   "id": "0aa8eb29",
   "metadata": {
    "id": "0aa8eb29"
   },
   "source": [
    "**Метрику удалось улучшить, а время потратили много, в 8 раз больше!**\n",
    "\n",
    "Поиск по сетке не гарантирует, что мы найдем наилучшую комбинацию гиперпараметров, а все потому что сетка значений конечна и фактическое наилучшее значение может отсутствовать или оказаться между значений, заданными нами.\n",
    "\n",
    "Ознакомиться с итоговой полученной моделью можно с помощью best_estimator_."
   ]
  },
  {
   "cell_type": "code",
   "execution_count": 16,
   "id": "ff911c5b",
   "metadata": {
    "colab": {
     "base_uri": "https://localhost:8080/"
    },
    "executionInfo": {
     "elapsed": 36,
     "status": "ok",
     "timestamp": 1680272965826,
     "user": {
      "displayName": "A Osipov",
      "userId": "00108399569825204503"
     },
     "user_tz": -300
    },
    "id": "ff911c5b",
    "outputId": "b870391d-e851-450f-dbdc-36072b716c88"
   },
   "outputs": [
    {
     "name": "stdout",
     "output_type": "stream",
     "text": [
      "Наилучшая модель:\n",
      "LogisticRegression(max_iter=50, random_state=42, solver='saga')\n"
     ]
    }
   ],
   "source": [
    "print(\"Наилучшая модель:\\n{}\".format(grid_search.best_estimator_))"
   ]
  },
  {
   "cell_type": "code",
   "execution_count": 17,
   "id": "85c6e514",
   "metadata": {
    "colab": {
     "base_uri": "https://localhost:8080/"
    },
    "executionInfo": {
     "elapsed": 20,
     "status": "ok",
     "timestamp": 1680272965827,
     "user": {
      "displayName": "A Osipov",
      "userId": "00108399569825204503"
     },
     "user_tz": -300
    },
    "id": "85c6e514",
    "outputId": "ee99563a-3d5c-4659-d8c0-1290afb9e18e"
   },
   "outputs": [
    {
     "name": "stdout",
     "output_type": "stream",
     "text": [
      "Наилучшая модель:\n",
      "LogisticRegression(C=0.1, max_iter=50, random_state=42)\n"
     ]
    }
   ],
   "source": [
    "print(\"Наилучшая модель:\\n{}\".format(grid_search_1.best_estimator_))"
   ]
  },
  {
   "cell_type": "markdown",
   "id": "aed3b9e1",
   "metadata": {
    "id": "aed3b9e1"
   },
   "source": [
    "**Для случайного леса**"
   ]
  },
  {
   "cell_type": "code",
   "execution_count": 18,
   "id": "ce79875e",
   "metadata": {
    "colab": {
     "base_uri": "https://localhost:8080/"
    },
    "executionInfo": {
     "elapsed": 130230,
     "status": "ok",
     "timestamp": 1680273096045,
     "user": {
      "displayName": "A Osipov",
      "userId": "00108399569825204503"
     },
     "user_tz": -300
    },
    "id": "ce79875e",
    "outputId": "ef7f9e29-6eec-4bc2-99a7-d17d36665967"
   },
   "outputs": [
    {
     "name": "stdout",
     "output_type": "stream",
     "text": [
      "CPU times: total: 5.73 s\n",
      "Wall time: 3min 40s\n",
      "f1_score на тестовом наборе: 0.82\n",
      "Наилучшие значения гиперпараметров: {'max_depth': 20, 'min_samples_leaf': 5, 'n_estimators': 140}\n"
     ]
    }
   ],
   "source": [
    "param_grid = {'n_estimators': list(range(80, 200, 30)),\n",
    "              'min_samples_leaf': [5],\n",
    "              'max_depth': list(np.linspace(20, 40, 5, dtype=int))\n",
    "              }\n",
    "            \n",
    "grid_search_forest = GridSearchCV(\n",
    "    estimator=ensemble.RandomForestClassifier(random_state=42), \n",
    "    param_grid=param_grid, \n",
    "    cv=5, \n",
    "    n_jobs=-1\n",
    "                                  )  \n",
    "%time grid_search_forest.fit(X_train, y_train) \n",
    "y_train_pred = grid_search_forest.predict(X_train)\n",
    "# print('f1_score на обучающем наборе: {:.2f}'.format(metrics.f1_score(y_train, y_train_pred)))\n",
    "# print(\"accuracy на тестовом наборе: {:.2f}\".format(grid_search_forest.score(X_test, y_test)))\n",
    "y_test_pred = grid_search_forest.predict(X_test)\n",
    "print('f1_score на тестовом наборе: {:.2f}'.format(metrics.f1_score(y_test, y_test_pred)))\n",
    "print(\"Наилучшие значения гиперпараметров: {}\".format(grid_search_forest.best_params_))"
   ]
  },
  {
   "cell_type": "markdown",
   "id": "e2ccb678",
   "metadata": {
    "id": "e2ccb678"
   },
   "source": [
    "### <center> **RandomizedSearchCV**"
   ]
  },
  {
   "cell_type": "markdown",
   "id": "74ff809c",
   "metadata": {
    "id": "74ff809c"
   },
   "source": [
    "**Для логистической регресии**"
   ]
  },
  {
   "cell_type": "code",
   "execution_count": 19,
   "id": "a79b41aa",
   "metadata": {
    "colab": {
     "base_uri": "https://localhost:8080/"
    },
    "executionInfo": {
     "elapsed": 50430,
     "status": "ok",
     "timestamp": 1680273146466,
     "user": {
      "displayName": "A Osipov",
      "userId": "00108399569825204503"
     },
     "user_tz": -300
    },
    "id": "a79b41aa",
    "outputId": "b00a3a15-b09a-493f-e871-7496ea719128"
   },
   "outputs": [
    {
     "name": "stdout",
     "output_type": "stream",
     "text": [
      "CPU times: total: 5.37 s\n",
      "Wall time: 1min 30s\n",
      "f1_score на тестовом наборе: 0.78\n",
      "Наилучшие значения гиперпараметров: {'solver': 'sag', 'penalty': 'l2', 'C': 0.23}\n"
     ]
    },
    {
     "name": "stderr",
     "output_type": "stream",
     "text": [
      "E:\\ProgramData7\\Anaconda3\\envs\\Find hyperparameters\\lib\\site-packages\\sklearn\\linear_model\\_sag.py:350: ConvergenceWarning: The max_iter was reached which means the coef_ did not converge\n",
      "  warnings.warn(\n"
     ]
    }
   ],
   "source": [
    "from sklearn.model_selection import RandomizedSearchCV\n",
    "\n",
    "#np.linspace(start(от), stop(до), num=50(количество),dtype- тип данных)\n",
    "param_grid = {'penalty': ['l2', 'none'] ,\n",
    "              'solver': ['lbfgs', 'sag'],\n",
    "               'C': list(np.linspace(0.01, 1, 10, dtype=float))\n",
    "             }\n",
    "            \n",
    "random_search = RandomizedSearchCV(\n",
    "    estimator=linear_model.LogisticRegression(\n",
    "        random_state=42, #генератор случайных чисел\n",
    "        max_iter=50 #количество итераций на сходимость\n",
    "                                              ),\n",
    "    param_distributions=param_grid,\n",
    "    cv=5, \n",
    "    n_iter=10, \n",
    "    n_jobs=-1\n",
    "                                    )  \n",
    "%time random_search.fit(X_train, y_train) \n",
    "# print(\"accuracy на тестовом наборе: {:.2f}\".format(random_search.score(X_test, y_test)))\n",
    "y_test_pred = random_search.predict(X_test)\n",
    "print('f1_score на тестовом наборе: {:.2f}'.format(metrics.f1_score(y_test, y_test_pred)))\n",
    "print(\"Наилучшие значения гиперпараметров: {}\".format(random_search.best_params_))"
   ]
  },
  {
   "cell_type": "markdown",
   "id": "2a583f96",
   "metadata": {
    "id": "2a583f96"
   },
   "source": [
    "**Для случайного леса**"
   ]
  },
  {
   "cell_type": "code",
   "execution_count": 20,
   "id": "7a5fb1a1",
   "metadata": {
    "colab": {
     "base_uri": "https://localhost:8080/"
    },
    "executionInfo": {
     "elapsed": 57799,
     "status": "ok",
     "timestamp": 1680273204257,
     "user": {
      "displayName": "A Osipov",
      "userId": "00108399569825204503"
     },
     "user_tz": -300
    },
    "id": "7a5fb1a1",
    "outputId": "3cc86dbe-b0fa-4dc3-cb0c-c598f729a07b"
   },
   "outputs": [
    {
     "name": "stdout",
     "output_type": "stream",
     "text": [
      "CPU times: total: 3.4 s\n",
      "Wall time: 1min 47s\n",
      "f1_score на тестовом наборе: 0.83\n",
      "Наилучшие значения гиперпараметров: {'n_estimators': 80, 'min_samples_leaf': 5, 'max_depth': 22}\n"
     ]
    }
   ],
   "source": [
    "param_grid = {'n_estimators': list(range(80, 200, 30)),\n",
    "              'min_samples_leaf': [5],\n",
    "              'max_depth': list(np.linspace(20, 40, 10, dtype=int))\n",
    "              }\n",
    "            \n",
    "random_search_forest = RandomizedSearchCV(\n",
    "    estimator=ensemble.RandomForestClassifier(random_state=42), \n",
    "    param_distributions=param_grid, \n",
    "    cv=5,\n",
    "    n_iter=10, \n",
    "    n_jobs=-1\n",
    "                                          )  \n",
    "%time random_search_forest.fit(X_train, y_train) \n",
    "y_train_pred = random_search_forest.predict(X_train)\n",
    "# print('f1_score на обучающем наборе: {:.2f}'.format(metrics.f1_score(y_train, y_train_pred)))\n",
    "# print(\"accuracy на тестовом наборе: {:.2f}\".format(random_search_forest.score(X_test, y_test)))\n",
    "y_test_pred = random_search_forest.predict(X_test)\n",
    "print('f1_score на тестовом наборе: {:.2f}'.format(metrics.f1_score(y_test, y_test_pred)))\n",
    "print(\"Наилучшие значения гиперпараметров: {}\".format(random_search_forest.best_params_))"
   ]
  },
  {
   "cell_type": "markdown",
   "id": "a636130c",
   "metadata": {
    "id": "a636130c"
   },
   "source": [
    "### <center> Hyperopt"
   ]
  },
  {
   "cell_type": "code",
   "execution_count": 21,
   "id": "c8b25c31",
   "metadata": {
    "colab": {
     "base_uri": "https://localhost:8080/"
    },
    "executionInfo": {
     "elapsed": 630,
     "status": "ok",
     "timestamp": 1680273204858,
     "user": {
      "displayName": "A Osipov",
      "userId": "00108399569825204503"
     },
     "user_tz": -300
    },
    "id": "c8b25c31",
    "outputId": "1ae8935a-8ffd-4217-c1e8-899bf6e3ccbe"
   },
   "outputs": [
    {
     "name": "stdout",
     "output_type": "stream",
     "text": [
      "Версия Hyperopt : 0.2.7\n"
     ]
    }
   ],
   "source": [
    "#делаем импорт и выведем версию библиотеки\n",
    "# from sklearn.model_selection import cross_val_score\n",
    "import hyperopt\n",
    "from hyperopt import hp, fmin, tpe, Trials\n",
    "# fmin - основная функция, она будет минимизировать наш функционал\n",
    "# tpe - алгоритм оптимизации\n",
    "# hp - включает набор методов для объявления пространства поиска гиперпараметров\n",
    "# trails - используется для логирования результатов\n",
    "\n",
    "print(\"Версия Hyperopt: {}\".format(hyperopt.__version__))"
   ]
  },
  {
   "cell_type": "markdown",
   "id": "0150b713",
   "metadata": {
    "id": "0150b713"
   },
   "source": [
    "**Для случайного леса**"
   ]
  },
  {
   "cell_type": "code",
   "execution_count": 22,
   "id": "7076744e",
   "metadata": {
    "executionInfo": {
     "elapsed": 19,
     "status": "ok",
     "timestamp": 1680273204859,
     "user": {
      "displayName": "A Osipov",
      "userId": "00108399569825204503"
     },
     "user_tz": -300
    },
    "id": "7076744e"
   },
   "outputs": [],
   "source": [
    "# зададим пространство поиска гиперпараметров\n",
    "space={'n_estimators': hp.quniform('n_estimators', 100, 200, 1),\n",
    "       'max_depth' : hp.quniform('max_depth', 15, 26, 1),\n",
    "       'min_samples_leaf': hp.quniform('min_samples_leaf', 2, 10, 1)\n",
    "      }"
   ]
  },
  {
   "cell_type": "code",
   "execution_count": 23,
   "id": "9e8d9de2",
   "metadata": {
    "executionInfo": {
     "elapsed": 19,
     "status": "ok",
     "timestamp": 1680273204860,
     "user": {
      "displayName": "A Osipov",
      "userId": "00108399569825204503"
     },
     "user_tz": -300
    },
    "id": "9e8d9de2"
   },
   "outputs": [],
   "source": [
    "# зафиксируем random_state\n",
    "random_state = 42\n",
    "def hyperopt_rf(params, cv=5, X=X_train, y=y_train, random_state=random_state):\n",
    "    # функция получает комбинацию гиперпараметров в \"params\"\n",
    "    params = {'n_estimators': int(params['n_estimators']), \n",
    "              'max_depth': int(params['max_depth']), \n",
    "             'min_samples_leaf': int(params['min_samples_leaf'])\n",
    "              }\n",
    "  \n",
    "    # используем эту комбинацию для построения модели\n",
    "    model = ensemble.RandomForestClassifier(**params, random_state=random_state)\n",
    "\n",
    "    # обучаем модель\n",
    "    model.fit(X, y)\n",
    "    score = metrics.f1_score(y, model.predict(X))\n",
    "    \n",
    "    # обучать модель можно также с помощью кросс-валидации\n",
    "    # применим  cross validation с тем же количеством фолдов\n",
    "    # score = cross_val_score(model, X, y, cv=cv, scoring=\"f1\", n_jobs=-1).mean()\n",
    "\n",
    "    # метрику необходимо минимизировать, поэтому ставим знак минус\n",
    "    return -score"
   ]
  },
  {
   "cell_type": "code",
   "execution_count": 24,
   "id": "91baa3c7",
   "metadata": {
    "colab": {
     "base_uri": "https://localhost:8080/"
    },
    "executionInfo": {
     "elapsed": 47889,
     "status": "ok",
     "timestamp": 1680273252731,
     "user": {
      "displayName": "A Osipov",
      "userId": "00108399569825204503"
     },
     "user_tz": -300
    },
    "id": "91baa3c7",
    "outputId": "05b69848-1395-422c-e7a5-ed40bef6aebd"
   },
   "outputs": [
    {
     "name": "stdout",
     "output_type": "stream",
     "text": [
      "100%|████████| 20/20 [01:49<00:00,  5.45s/trial, best loss: -0.988653787181846]\n",
      "Наилучшие значения гиперпараметров {'max_depth': 18.0, 'min_samples_leaf': 2.0, 'n_estimators': 103.0}\n",
      "CPU times: total: 1min 43s\n",
      "Wall time: 1min 49s\n"
     ]
    }
   ],
   "source": [
    "%%time\n",
    "# начинаем подбор гиперпараметров\n",
    "\n",
    "trials = Trials() # используется для логирования результатов\n",
    "\n",
    "best=fmin(hyperopt_rf, # наша функция \n",
    "          space=space, # пространство гиперпараметров\n",
    "          algo=tpe.suggest, # алгоритм оптимизации, установлен по умолчанию, задавать необязательно\n",
    "          max_evals=20, # максимальное количество итераций\n",
    "          trials=trials, # логирование результатов\n",
    "          rstate=np.random.default_rng(random_state) # фиксируем для повторяемости результата\n",
    "         )\n",
    "print(\"Наилучшие значения гиперпараметров {}\".format(best))"
   ]
  },
  {
   "cell_type": "code",
   "execution_count": 25,
   "id": "f0690bb2",
   "metadata": {
    "colab": {
     "base_uri": "https://localhost:8080/"
    },
    "executionInfo": {
     "elapsed": 2224,
     "status": "ok",
     "timestamp": 1680273254920,
     "user": {
      "displayName": "A Osipov",
      "userId": "00108399569825204503"
     },
     "user_tz": -300
    },
    "id": "f0690bb2",
    "outputId": "a1adf6a3-d64b-48aa-9a3d-d0ff88553c50"
   },
   "outputs": [
    {
     "name": "stdout",
     "output_type": "stream",
     "text": [
      "f1_score на тестовом наборе: 0.82\n"
     ]
    }
   ],
   "source": [
    "# рассчитаем точность для тестовой выборки\n",
    "model = ensemble.RandomForestClassifier(\n",
    "    random_state=random_state, \n",
    "    n_estimators=int(best['n_estimators']),\n",
    "    max_depth=int(best['max_depth']),\n",
    "    min_samples_leaf=int(best['min_samples_leaf'])\n",
    "                                        )\n",
    "model.fit(X_train, y_train)\n",
    "y_train_pred = model.predict(X_train)\n",
    "# print('f1_score на обучающем наборе: {:.2f}'.format(metrics.f1_score(y_train, y_train_pred)))\n",
    "# print(\"accuracy на тестовом наборе: {:.2f}\".format(model.score(X_test, y_test)))\n",
    "y_test_pred = model.predict(X_test)\n",
    "print('f1_score на тестовом наборе: {:.2f}'.format(metrics.f1_score(y_test, y_test_pred)))"
   ]
  },
  {
   "cell_type": "markdown",
   "id": "9943f48e",
   "metadata": {
    "id": "9943f48e"
   },
   "source": [
    "**Для логистической регрессии**"
   ]
  },
  {
   "cell_type": "code",
   "execution_count": 26,
   "id": "5613e00a",
   "metadata": {
    "colab": {
     "base_uri": "https://localhost:8080/"
    },
    "executionInfo": {
     "elapsed": 112878,
     "status": "ok",
     "timestamp": 1680273367785,
     "user": {
      "displayName": "A Osipov",
      "userId": "00108399569825204503"
     },
     "user_tz": -300
    },
    "id": "5613e00a",
    "outputId": "73065b49-2f7c-4a27-be7f-b345d7492e8c"
   },
   "outputs": [
    {
     "name": "stdout",
     "output_type": "stream",
     "text": [
      "100%|███████| 20/20 [04:25<00:00, 13.26s/trial, best loss: -0.7787274418174028]\n"
     ]
    }
   ],
   "source": [
    "from sklearn.model_selection import cross_val_score\n",
    "RANDOM_STATE = 42\n",
    "# зададим пространство поиска гиперпараметров\n",
    "# Logistic Regression supports only solvers in ['liblinear', 'newton-cg', 'lbfgs', 'sag', 'saga']\n",
    "space = hp.choice('parameter_combinations', \n",
    "                  [{'solver': 'saga',\n",
    "                    'penalty': hp.choice('penalty', ['l1', 'l2']),\n",
    "                    'C': hp.uniform('C_saga', 0.01, 1)\n",
    "                    },\n",
    "                   {'solver': 'lbfgs',\n",
    "                    'penalty': 'l2',\n",
    "                    'C': hp.uniform('C_lbfgs', 0.01, 1)\n",
    "                    }\n",
    "                   ]\n",
    "                 )\n",
    "\n",
    "# Целевая функция\n",
    "def obj_func(params, cv=5, X=X_train, y=y_train, random_state=RANDOM_STATE):\n",
    "    params = {'solver': params['solver'], \n",
    "              'penalty': params['penalty'], \n",
    "              'C': params['C']\n",
    "              }\n",
    "      \n",
    "    model = linear_model.LogisticRegression(**params, class_weight='balanced', \n",
    "        random_state=random_state, max_iter=50\n",
    "                                            )\n",
    "      \n",
    "    # Обучаем модель с помощью кросс-валидации\n",
    "    score = cross_val_score(model, X, y, cv=cv, scoring='f1', n_jobs=-1).mean()\n",
    "\n",
    "    return -score \n",
    "\n",
    "\n",
    "trials = Trials()\n",
    "best=fmin(obj_func, \n",
    "          space=space, \n",
    "          algo=tpe.suggest, \n",
    "          max_evals=20, \n",
    "          trials=trials, \n",
    "          #rstate=np.random.RandomState(random_state)\n",
    "          rstate=np.random.default_rng(RANDOM_STATE)\n",
    "         )"
   ]
  },
  {
   "cell_type": "code",
   "execution_count": 27,
   "id": "f5079c1f",
   "metadata": {
    "colab": {
     "base_uri": "https://localhost:8080/"
    },
    "executionInfo": {
     "elapsed": 76,
     "status": "ok",
     "timestamp": 1680273367786,
     "user": {
      "displayName": "A Osipov",
      "userId": "00108399569825204503"
     },
     "user_tz": -300
    },
    "id": "f5079c1f",
    "outputId": "ef0a782e-89ab-428b-bee8-8f0382e4faa0"
   },
   "outputs": [
    {
     "name": "stdout",
     "output_type": "stream",
     "text": [
      "Наилучшие значения гиперпараметров: {'C_lbfgs': 0.2200949458234019, 'parameter_combinations': 1}\n"
     ]
    }
   ],
   "source": [
    "print(f'Наилучшие значения гиперпараметров: {best}')"
   ]
  },
  {
   "cell_type": "markdown",
   "id": "f7a4dca8",
   "metadata": {
    "id": "f7a4dca8"
   },
   "source": [
    "## <center> Optuna"
   ]
  },
  {
   "cell_type": "code",
   "execution_count": 28,
   "id": "FpG8mtLgGRYY",
   "metadata": {
    "colab": {
     "base_uri": "https://localhost:8080/"
    },
    "executionInfo": {
     "elapsed": 6511,
     "status": "ok",
     "timestamp": 1680273407797,
     "user": {
      "displayName": "A Osipov",
      "userId": "00108399569825204503"
     },
     "user_tz": -300
    },
    "id": "FpG8mtLgGRYY",
    "outputId": "aa032e70-3a15-4399-a849-1da14121dec1"
   },
   "outputs": [],
   "source": [
    "# !pip install optuna"
   ]
  },
  {
   "cell_type": "code",
   "execution_count": 29,
   "id": "3b54b0a9",
   "metadata": {
    "executionInfo": {
     "elapsed": 1752,
     "status": "ok",
     "timestamp": 1680273418071,
     "user": {
      "displayName": "A Osipov",
      "userId": "00108399569825204503"
     },
     "user_tz": -300
    },
    "id": "3b54b0a9"
   },
   "outputs": [
    {
     "name": "stderr",
     "output_type": "stream",
     "text": [
      "E:\\ProgramData7\\Anaconda3\\envs\\Find hyperparameters\\lib\\site-packages\\tqdm\\auto.py:21: TqdmWarning: IProgress not found. Please update jupyter and ipywidgets. See https://ipywidgets.readthedocs.io/en/stable/user_install.html\n",
      "  from .autonotebook import tqdm as notebook_tqdm\n"
     ]
    }
   ],
   "source": [
    "import optuna"
   ]
  },
  {
   "cell_type": "code",
   "execution_count": 30,
   "id": "3lMROoKdG1Sf",
   "metadata": {
    "colab": {
     "base_uri": "https://localhost:8080/",
     "height": 35
    },
    "executionInfo": {
     "elapsed": 339,
     "status": "ok",
     "timestamp": 1680273644154,
     "user": {
      "displayName": "A Osipov",
      "userId": "00108399569825204503"
     },
     "user_tz": -300
    },
    "id": "3lMROoKdG1Sf",
    "outputId": "f9dee45c-aae7-4811-b798-4c5a58b69683"
   },
   "outputs": [
    {
     "data": {
      "text/plain": [
       "'3.1.0'"
      ]
     },
     "execution_count": 30,
     "metadata": {},
     "output_type": "execute_result"
    }
   ],
   "source": [
    "optuna.__version__"
   ]
  },
  {
   "cell_type": "markdown",
   "id": "baf7a438",
   "metadata": {
    "id": "baf7a438"
   },
   "source": [
    "**Для логистической регрессии**"
   ]
  },
  {
   "cell_type": "code",
   "execution_count": 31,
   "id": "3d5f797a",
   "metadata": {
    "colab": {
     "base_uri": "https://localhost:8080/"
    },
    "executionInfo": {
     "elapsed": 194651,
     "status": "ok",
     "timestamp": 1680273616757,
     "user": {
      "displayName": "A Osipov",
      "userId": "00108399569825204503"
     },
     "user_tz": -300
    },
    "id": "3d5f797a",
    "outputId": "5073f59f-92f4-4828-8187-7659e30d1a07"
   },
   "outputs": [
    {
     "name": "stderr",
     "output_type": "stream",
     "text": [
      "\u001b[32m[I 2023-03-31 20:40:06,484]\u001b[0m A new study created in memory with name: LogisticRegression\u001b[0m\n",
      "C:\\Users\\User\\AppData\\Local\\Temp\\ipykernel_6528\\2246984164.py:9: FutureWarning: suggest_uniform has been deprecated in v3.0.0. This feature will be removed in v6.0.0. See https://github.com/optuna/optuna/releases/tag/v3.0.0. Use :func:`~optuna.trial.Trial.suggest_float` instead.\n",
      "  C = trial.suggest_uniform('C', 0.01, 1)\n",
      "\u001b[32m[I 2023-03-31 20:40:12,642]\u001b[0m Trial 0 finished with value: 0.765298050264929 and parameters: {'solver': 'lbfgs', 'C': 0.7346740023932911}. Best is trial 0 with value: 0.765298050264929.\u001b[0m\n",
      "C:\\Users\\User\\AppData\\Local\\Temp\\ipykernel_6528\\2246984164.py:9: FutureWarning: suggest_uniform has been deprecated in v3.0.0. This feature will be removed in v6.0.0. See https://github.com/optuna/optuna/releases/tag/v3.0.0. Use :func:`~optuna.trial.Trial.suggest_float` instead.\n",
      "  C = trial.suggest_uniform('C', 0.01, 1)\n",
      "\u001b[32m[I 2023-03-31 20:40:40,515]\u001b[0m Trial 1 finished with value: 0.7764867705363445 and parameters: {'solver': 'saga', 'penalty': 'l1', 'C': 0.8675143843171859}. Best is trial 1 with value: 0.7764867705363445.\u001b[0m\n",
      "C:\\Users\\User\\AppData\\Local\\Temp\\ipykernel_6528\\2246984164.py:9: FutureWarning: suggest_uniform has been deprecated in v3.0.0. This feature will be removed in v6.0.0. See https://github.com/optuna/optuna/releases/tag/v3.0.0. Use :func:`~optuna.trial.Trial.suggest_float` instead.\n",
      "  C = trial.suggest_uniform('C', 0.01, 1)\n",
      "\u001b[32m[I 2023-03-31 20:40:46,257]\u001b[0m Trial 2 finished with value: 0.7757759494840786 and parameters: {'solver': 'lbfgs', 'C': 0.03037864935284442}. Best is trial 1 with value: 0.7764867705363445.\u001b[0m\n",
      "C:\\Users\\User\\AppData\\Local\\Temp\\ipykernel_6528\\2246984164.py:9: FutureWarning: suggest_uniform has been deprecated in v3.0.0. This feature will be removed in v6.0.0. See https://github.com/optuna/optuna/releases/tag/v3.0.0. Use :func:`~optuna.trial.Trial.suggest_float` instead.\n",
      "  C = trial.suggest_uniform('C', 0.01, 1)\n",
      "\u001b[32m[I 2023-03-31 20:41:10,563]\u001b[0m Trial 3 finished with value: 0.7753978429174555 and parameters: {'solver': 'saga', 'penalty': 'l1', 'C': 0.1915704647548995}. Best is trial 1 with value: 0.7764867705363445.\u001b[0m\n",
      "C:\\Users\\User\\AppData\\Local\\Temp\\ipykernel_6528\\2246984164.py:9: FutureWarning: suggest_uniform has been deprecated in v3.0.0. This feature will be removed in v6.0.0. See https://github.com/optuna/optuna/releases/tag/v3.0.0. Use :func:`~optuna.trial.Trial.suggest_float` instead.\n",
      "  C = trial.suggest_uniform('C', 0.01, 1)\n",
      "\u001b[32m[I 2023-03-31 20:41:16,089]\u001b[0m Trial 4 finished with value: 0.7676793249336334 and parameters: {'solver': 'lbfgs', 'C': 0.4376255684556946}. Best is trial 1 with value: 0.7764867705363445.\u001b[0m\n",
      "C:\\Users\\User\\AppData\\Local\\Temp\\ipykernel_6528\\2246984164.py:9: FutureWarning: suggest_uniform has been deprecated in v3.0.0. This feature will be removed in v6.0.0. See https://github.com/optuna/optuna/releases/tag/v3.0.0. Use :func:`~optuna.trial.Trial.suggest_float` instead.\n",
      "  C = trial.suggest_uniform('C', 0.01, 1)\n",
      "\u001b[32m[I 2023-03-31 20:41:21,632]\u001b[0m Trial 5 finished with value: 0.7761197991643851 and parameters: {'solver': 'lbfgs', 'C': 0.14809892204552141}. Best is trial 1 with value: 0.7764867705363445.\u001b[0m\n",
      "C:\\Users\\User\\AppData\\Local\\Temp\\ipykernel_6528\\2246984164.py:9: FutureWarning: suggest_uniform has been deprecated in v3.0.0. This feature will be removed in v6.0.0. See https://github.com/optuna/optuna/releases/tag/v3.0.0. Use :func:`~optuna.trial.Trial.suggest_float` instead.\n",
      "  C = trial.suggest_uniform('C', 0.01, 1)\n",
      "\u001b[32m[I 2023-03-31 20:41:27,112]\u001b[0m Trial 6 finished with value: 0.7687628676643273 and parameters: {'solver': 'lbfgs', 'C': 0.46150928437486555}. Best is trial 1 with value: 0.7764867705363445.\u001b[0m\n",
      "C:\\Users\\User\\AppData\\Local\\Temp\\ipykernel_6528\\2246984164.py:9: FutureWarning: suggest_uniform has been deprecated in v3.0.0. This feature will be removed in v6.0.0. See https://github.com/optuna/optuna/releases/tag/v3.0.0. Use :func:`~optuna.trial.Trial.suggest_float` instead.\n",
      "  C = trial.suggest_uniform('C', 0.01, 1)\n",
      "\u001b[32m[I 2023-03-31 20:41:45,420]\u001b[0m Trial 7 finished with value: 0.7753751792755674 and parameters: {'solver': 'saga', 'penalty': 'l2', 'C': 0.05598590859279775}. Best is trial 1 with value: 0.7764867705363445.\u001b[0m\n",
      "C:\\Users\\User\\AppData\\Local\\Temp\\ipykernel_6528\\2246984164.py:9: FutureWarning: suggest_uniform has been deprecated in v3.0.0. This feature will be removed in v6.0.0. See https://github.com/optuna/optuna/releases/tag/v3.0.0. Use :func:`~optuna.trial.Trial.suggest_float` instead.\n",
      "  C = trial.suggest_uniform('C', 0.01, 1)\n",
      "\u001b[32m[I 2023-03-31 20:42:03,467]\u001b[0m Trial 8 finished with value: 0.776760688193573 and parameters: {'solver': 'saga', 'penalty': 'l2', 'C': 0.9659757127438138}. Best is trial 8 with value: 0.776760688193573.\u001b[0m\n",
      "C:\\Users\\User\\AppData\\Local\\Temp\\ipykernel_6528\\2246984164.py:9: FutureWarning: suggest_uniform has been deprecated in v3.0.0. This feature will be removed in v6.0.0. See https://github.com/optuna/optuna/releases/tag/v3.0.0. Use :func:`~optuna.trial.Trial.suggest_float` instead.\n",
      "  C = trial.suggest_uniform('C', 0.01, 1)\n",
      "\u001b[32m[I 2023-03-31 20:42:21,071]\u001b[0m Trial 9 finished with value: 0.7772372155796559 and parameters: {'solver': 'saga', 'penalty': 'l2', 'C': 0.44575096880220527}. Best is trial 9 with value: 0.7772372155796559.\u001b[0m\n",
      "C:\\Users\\User\\AppData\\Local\\Temp\\ipykernel_6528\\2246984164.py:9: FutureWarning: suggest_uniform has been deprecated in v3.0.0. This feature will be removed in v6.0.0. See https://github.com/optuna/optuna/releases/tag/v3.0.0. Use :func:`~optuna.trial.Trial.suggest_float` instead.\n",
      "  C = trial.suggest_uniform('C', 0.01, 1)\n",
      "\u001b[32m[I 2023-03-31 20:42:39,198]\u001b[0m Trial 10 finished with value: 0.7776116597991605 and parameters: {'solver': 'saga', 'penalty': 'l2', 'C': 0.699156625324738}. Best is trial 10 with value: 0.7776116597991605.\u001b[0m\n",
      "C:\\Users\\User\\AppData\\Local\\Temp\\ipykernel_6528\\2246984164.py:9: FutureWarning: suggest_uniform has been deprecated in v3.0.0. This feature will be removed in v6.0.0. See https://github.com/optuna/optuna/releases/tag/v3.0.0. Use :func:`~optuna.trial.Trial.suggest_float` instead.\n",
      "  C = trial.suggest_uniform('C', 0.01, 1)\n",
      "\u001b[32m[I 2023-03-31 20:42:57,083]\u001b[0m Trial 11 finished with value: 0.777239415116605 and parameters: {'solver': 'saga', 'penalty': 'l2', 'C': 0.665954222847986}. Best is trial 10 with value: 0.7776116597991605.\u001b[0m\n",
      "C:\\Users\\User\\AppData\\Local\\Temp\\ipykernel_6528\\2246984164.py:9: FutureWarning: suggest_uniform has been deprecated in v3.0.0. This feature will be removed in v6.0.0. See https://github.com/optuna/optuna/releases/tag/v3.0.0. Use :func:`~optuna.trial.Trial.suggest_float` instead.\n",
      "  C = trial.suggest_uniform('C', 0.01, 1)\n",
      "\u001b[32m[I 2023-03-31 20:43:14,833]\u001b[0m Trial 12 finished with value: 0.7768544441553629 and parameters: {'solver': 'saga', 'penalty': 'l2', 'C': 0.6306148084575021}. Best is trial 10 with value: 0.7776116597991605.\u001b[0m\n",
      "C:\\Users\\User\\AppData\\Local\\Temp\\ipykernel_6528\\2246984164.py:9: FutureWarning: suggest_uniform has been deprecated in v3.0.0. This feature will be removed in v6.0.0. See https://github.com/optuna/optuna/releases/tag/v3.0.0. Use :func:`~optuna.trial.Trial.suggest_float` instead.\n",
      "  C = trial.suggest_uniform('C', 0.01, 1)\n",
      "\u001b[32m[I 2023-03-31 20:43:33,186]\u001b[0m Trial 13 finished with value: 0.7776116597991605 and parameters: {'solver': 'saga', 'penalty': 'l2', 'C': 0.6728543041750512}. Best is trial 10 with value: 0.7776116597991605.\u001b[0m\n",
      "C:\\Users\\User\\AppData\\Local\\Temp\\ipykernel_6528\\2246984164.py:9: FutureWarning: suggest_uniform has been deprecated in v3.0.0. This feature will be removed in v6.0.0. See https://github.com/optuna/optuna/releases/tag/v3.0.0. Use :func:`~optuna.trial.Trial.suggest_float` instead.\n",
      "  C = trial.suggest_uniform('C', 0.01, 1)\n",
      "\u001b[32m[I 2023-03-31 20:43:51,469]\u001b[0m Trial 14 finished with value: 0.7775137685968427 and parameters: {'solver': 'saga', 'penalty': 'l2', 'C': 0.795805263486279}. Best is trial 10 with value: 0.7776116597991605.\u001b[0m\n",
      "C:\\Users\\User\\AppData\\Local\\Temp\\ipykernel_6528\\2246984164.py:9: FutureWarning: suggest_uniform has been deprecated in v3.0.0. This feature will be removed in v6.0.0. See https://github.com/optuna/optuna/releases/tag/v3.0.0. Use :func:`~optuna.trial.Trial.suggest_float` instead.\n",
      "  C = trial.suggest_uniform('C', 0.01, 1)\n"
     ]
    },
    {
     "name": "stderr",
     "output_type": "stream",
     "text": [
      "\u001b[32m[I 2023-03-31 20:44:09,412]\u001b[0m Trial 15 finished with value: 0.777227427742206 and parameters: {'solver': 'saga', 'penalty': 'l2', 'C': 0.5957667995707591}. Best is trial 10 with value: 0.7776116597991605.\u001b[0m\n",
      "C:\\Users\\User\\AppData\\Local\\Temp\\ipykernel_6528\\2246984164.py:9: FutureWarning: suggest_uniform has been deprecated in v3.0.0. This feature will be removed in v6.0.0. See https://github.com/optuna/optuna/releases/tag/v3.0.0. Use :func:`~optuna.trial.Trial.suggest_float` instead.\n",
      "  C = trial.suggest_uniform('C', 0.01, 1)\n",
      "\u001b[32m[I 2023-03-31 20:44:37,237]\u001b[0m Trial 16 finished with value: 0.7747442511441909 and parameters: {'solver': 'saga', 'penalty': 'l1', 'C': 0.8347616888265146}. Best is trial 10 with value: 0.7776116597991605.\u001b[0m\n",
      "C:\\Users\\User\\AppData\\Local\\Temp\\ipykernel_6528\\2246984164.py:9: FutureWarning: suggest_uniform has been deprecated in v3.0.0. This feature will be removed in v6.0.0. See https://github.com/optuna/optuna/releases/tag/v3.0.0. Use :func:`~optuna.trial.Trial.suggest_float` instead.\n",
      "  C = trial.suggest_uniform('C', 0.01, 1)\n",
      "\u001b[32m[I 2023-03-31 20:44:57,275]\u001b[0m Trial 17 finished with value: 0.7779846433860036 and parameters: {'solver': 'saga', 'penalty': 'l2', 'C': 0.7013203423085284}. Best is trial 17 with value: 0.7779846433860036.\u001b[0m\n",
      "C:\\Users\\User\\AppData\\Local\\Temp\\ipykernel_6528\\2246984164.py:9: FutureWarning: suggest_uniform has been deprecated in v3.0.0. This feature will be removed in v6.0.0. See https://github.com/optuna/optuna/releases/tag/v3.0.0. Use :func:`~optuna.trial.Trial.suggest_float` instead.\n",
      "  C = trial.suggest_uniform('C', 0.01, 1)\n",
      "\u001b[32m[I 2023-03-31 20:45:15,260]\u001b[0m Trial 18 finished with value: 0.776760688193573 and parameters: {'solver': 'saga', 'penalty': 'l2', 'C': 0.9852080299036985}. Best is trial 17 with value: 0.7779846433860036.\u001b[0m\n",
      "C:\\Users\\User\\AppData\\Local\\Temp\\ipykernel_6528\\2246984164.py:9: FutureWarning: suggest_uniform has been deprecated in v3.0.0. This feature will be removed in v6.0.0. See https://github.com/optuna/optuna/releases/tag/v3.0.0. Use :func:`~optuna.trial.Trial.suggest_float` instead.\n",
      "  C = trial.suggest_uniform('C', 0.01, 1)\n",
      "\u001b[32m[I 2023-03-31 20:45:32,794]\u001b[0m Trial 19 finished with value: 0.7769861754922461 and parameters: {'solver': 'saga', 'penalty': 'l2', 'C': 0.5514125029605998}. Best is trial 17 with value: 0.7779846433860036.\u001b[0m\n",
      "E:\\ProgramData7\\Anaconda3\\envs\\Find hyperparameters\\lib\\site-packages\\sklearn\\linear_model\\_sag.py:350: ConvergenceWarning: The max_iter was reached which means the coef_ did not converge\n",
      "  warnings.warn(\n"
     ]
    }
   ],
   "source": [
    "# Целевая функция\n",
    "def obj_func(trial):\n",
    "    # пространство гиперпараметров\n",
    "    solver = trial.suggest_categorical('solver', ['saga', 'lbfgs'])\n",
    "    if solver == 'saga':\n",
    "        penalty = trial.suggest_categorical('penalty', ['l1', 'l2'])\n",
    "    else:\n",
    "        penalty = 'l2'\n",
    "    C = trial.suggest_uniform('C', 0.01, 1)\n",
    "    \n",
    "    model = linear_model.LogisticRegression(\n",
    "        solver=solver,\n",
    "        penalty=penalty,\n",
    "        C=C,\n",
    "        class_weight='balanced', \n",
    "        random_state=RANDOM_STATE, \n",
    "        max_iter=50\n",
    "                                            )    \n",
    "    \n",
    "    # Обучаем модель с помощью кросс-валидации    \n",
    "    score = cross_val_score(\n",
    "        model, X_train, y_train, cv=5, scoring='f1', n_jobs=-1).mean()\n",
    "    \n",
    "    return score\n",
    "\n",
    "# Поиск оптимальных гиперпараметров\n",
    "sampler = optuna.samplers.TPESampler(seed=RANDOM_STATE)\n",
    "study_lr = optuna.create_study(\n",
    "    sampler=sampler, study_name='LogisticRegression', direction='maximize')\n",
    "study_lr.optimize(obj_func, n_trials=20)\n",
    "\n",
    "# Модель с лучшими параметрами\n",
    "optuna_lr = linear_model.LogisticRegression(\n",
    "    **study_lr.best_params, class_weight='balanced', n_jobs=-1,\n",
    "    random_state=RANDOM_STATE, max_iter=50\n",
    "                                            )\n",
    "optuna_lr.fit(X_train, y_train)\n",
    "y_train_pred = optuna_lr.predict(X_train)\n",
    "y_test_pred = optuna_lr.predict(X_test)"
   ]
  },
  {
   "cell_type": "code",
   "execution_count": 32,
   "id": "36c648e9",
   "metadata": {
    "colab": {
     "base_uri": "https://localhost:8080/"
    },
    "executionInfo": {
     "elapsed": 8,
     "status": "ok",
     "timestamp": 1680273651682,
     "user": {
      "displayName": "A Osipov",
      "userId": "00108399569825204503"
     },
     "user_tz": -300
    },
    "id": "36c648e9",
    "outputId": "13a443ec-6a3b-42b5-8f8f-519049b2547d"
   },
   "outputs": [
    {
     "name": "stdout",
     "output_type": "stream",
     "text": [
      "Наилучшие значения гиперпараметров: {'solver': 'saga', 'penalty': 'l2', 'C': 0.7013203423085284}\n",
      "F1 на кросс-валидации: 0.7779846433860036\n",
      "F1 на тренировочной выборке: 0.8558979147214442\n",
      "F1 на тестовой выборке: 0.7769607843137254\n"
     ]
    }
   ],
   "source": [
    "print(f'Наилучшие значения гиперпараметров: {study_lr.best_params}')\n",
    "print(f'F1 на кросс-валидации: {study_lr.best_value}')\n",
    "print(f'F1 на тренировочной выборке: {metrics.f1_score(y_train, y_train_pred)}')\n",
    "print(f'F1 на тестовой выборке: {metrics.f1_score(y_test, y_test_pred)}')"
   ]
  },
  {
   "cell_type": "markdown",
   "id": "3d076b4d",
   "metadata": {
    "id": "3d076b4d"
   },
   "source": [
    "**Для случайного леса**"
   ]
  },
  {
   "cell_type": "code",
   "execution_count": 33,
   "id": "20ebb85c",
   "metadata": {
    "executionInfo": {
     "elapsed": 8,
     "status": "ok",
     "timestamp": 1680273657155,
     "user": {
      "displayName": "A Osipov",
      "userId": "00108399569825204503"
     },
     "user_tz": -300
    },
    "id": "20ebb85c"
   },
   "outputs": [],
   "source": [
    "def optuna_rf(trial):\n",
    "    # задаем пространства поиска гиперпараметров\n",
    "    n_estimators = trial.suggest_int('n_estimators', 100, 200, 1)\n",
    "    max_depth = trial.suggest_int('max_depth', 10, 30, 1)\n",
    "    min_samples_leaf = trial.suggest_int('min_samples_leaf', 2, 10, 1)\n",
    "\n",
    "    # создаем модель\n",
    "    model = ensemble.RandomForestClassifier(n_estimators=n_estimators,\n",
    "                                            max_depth=max_depth,\n",
    "                                            min_samples_leaf=min_samples_leaf,\n",
    "                                            random_state=random_state)\n",
    "    # обучаем модель\n",
    "    model.fit(X_train, y_train)\n",
    "    score = metrics.f1_score(y_train, model.predict(X_train))\n",
    "\n",
    "    return score"
   ]
  },
  {
   "cell_type": "code",
   "execution_count": 34,
   "id": "dcc5bbef",
   "metadata": {
    "colab": {
     "base_uri": "https://localhost:8080/"
    },
    "executionInfo": {
     "elapsed": 53731,
     "status": "ok",
     "timestamp": 1680273733421,
     "user": {
      "displayName": "A Osipov",
      "userId": "00108399569825204503"
     },
     "user_tz": -300
    },
    "id": "dcc5bbef",
    "outputId": "428e315f-0839-4032-dcea-c321c9e5866c"
   },
   "outputs": [
    {
     "name": "stderr",
     "output_type": "stream",
     "text": [
      "\u001b[32m[I 2023-03-31 20:45:40,148]\u001b[0m A new study created in memory with name: RandomForestClassifier\u001b[0m\n",
      "\u001b[32m[I 2023-03-31 20:45:46,390]\u001b[0m Trial 0 finished with value: 0.9020445529447665 and parameters: {'n_estimators': 184, 'max_depth': 27, 'min_samples_leaf': 10}. Best is trial 0 with value: 0.9020445529447665.\u001b[0m\n",
      "\u001b[32m[I 2023-03-31 20:45:50,374]\u001b[0m Trial 1 finished with value: 0.9014084507042253 and parameters: {'n_estimators': 127, 'max_depth': 20, 'min_samples_leaf': 10}. Best is trial 0 with value: 0.9020445529447665.\u001b[0m\n",
      "\u001b[32m[I 2023-03-31 20:45:54,555]\u001b[0m Trial 2 finished with value: 0.9353355807539074 and parameters: {'n_estimators': 113, 'max_depth': 19, 'min_samples_leaf': 6}. Best is trial 2 with value: 0.9353355807539074.\u001b[0m\n",
      "\u001b[32m[I 2023-03-31 20:46:01,506]\u001b[0m Trial 3 finished with value: 0.9776416539050536 and parameters: {'n_estimators': 163, 'max_depth': 30, 'min_samples_leaf': 3}. Best is trial 3 with value: 0.9776416539050536.\u001b[0m\n",
      "\u001b[32m[I 2023-03-31 20:46:06,642]\u001b[0m Trial 4 finished with value: 0.9578497251069028 and parameters: {'n_estimators': 131, 'max_depth': 13, 'min_samples_leaf': 3}. Best is trial 3 with value: 0.9776416539050536.\u001b[0m\n",
      "\u001b[32m[I 2023-03-31 20:46:11,653]\u001b[0m Trial 5 finished with value: 0.8998167379352474 and parameters: {'n_estimators': 156, 'max_depth': 17, 'min_samples_leaf': 10}. Best is trial 3 with value: 0.9776416539050536.\u001b[0m\n",
      "\u001b[32m[I 2023-03-31 20:46:16,965]\u001b[0m Trial 6 finished with value: 0.9515686871763631 and parameters: {'n_estimators': 133, 'max_depth': 12, 'min_samples_leaf': 3}. Best is trial 3 with value: 0.9776416539050536.\u001b[0m\n",
      "\u001b[32m[I 2023-03-31 20:46:21,321]\u001b[0m Trial 7 finished with value: 0.9588540079244133 and parameters: {'n_estimators': 112, 'max_depth': 12, 'min_samples_leaf': 2}. Best is trial 3 with value: 0.9776416539050536.\u001b[0m\n",
      "\u001b[32m[I 2023-03-31 20:46:27,309]\u001b[0m Trial 8 finished with value: 0.9278287461773701 and parameters: {'n_estimators': 175, 'max_depth': 27, 'min_samples_leaf': 7}. Best is trial 3 with value: 0.9776416539050536.\u001b[0m\n",
      "\u001b[32m[I 2023-03-31 20:46:31,851]\u001b[0m Trial 9 finished with value: 0.9011930253900275 and parameters: {'n_estimators': 138, 'max_depth': 22, 'min_samples_leaf': 10}. Best is trial 3 with value: 0.9776416539050536.\u001b[0m\n",
      "\u001b[32m[I 2023-03-31 20:46:39,240]\u001b[0m Trial 10 finished with value: 0.9456985967053081 and parameters: {'n_estimators': 200, 'max_depth': 24, 'min_samples_leaf': 5}. Best is trial 3 with value: 0.9776416539050536.\u001b[0m\n",
      "\u001b[32m[I 2023-03-31 20:46:44,040]\u001b[0m Trial 11 finished with value: 0.9911179173047474 and parameters: {'n_estimators': 103, 'max_depth': 30, 'min_samples_leaf': 2}. Best is trial 11 with value: 0.9911179173047474.\u001b[0m\n",
      "\u001b[32m[I 2023-03-31 20:46:50,338]\u001b[0m Trial 12 finished with value: 0.9571078431372549 and parameters: {'n_estimators': 157, 'max_depth': 30, 'min_samples_leaf': 4}. Best is trial 11 with value: 0.9911179173047474.\u001b[0m\n",
      "\u001b[32m[I 2023-03-31 20:46:55,126]\u001b[0m Trial 13 finished with value: 0.9911179173047474 and parameters: {'n_estimators': 103, 'max_depth': 29, 'min_samples_leaf': 2}. Best is trial 11 with value: 0.9911179173047474.\u001b[0m\n",
      "\u001b[32m[I 2023-03-31 20:46:59,763]\u001b[0m Trial 14 finished with value: 0.9908088235294118 and parameters: {'n_estimators': 101, 'max_depth': 26, 'min_samples_leaf': 2}. Best is trial 11 with value: 0.9911179173047474.\u001b[0m\n",
      "\u001b[32m[I 2023-03-31 20:47:03,316]\u001b[0m Trial 15 finished with value: 0.9159792239535594 and parameters: {'n_estimators': 103, 'max_depth': 30, 'min_samples_leaf': 8}. Best is trial 11 with value: 0.9911179173047474.\u001b[0m\n",
      "\u001b[32m[I 2023-03-31 20:47:07,727]\u001b[0m Trial 16 finished with value: 0.9455657492354739 and parameters: {'n_estimators': 118, 'max_depth': 25, 'min_samples_leaf': 5}. Best is trial 11 with value: 0.9911179173047474.\u001b[0m\n",
      "\u001b[32m[I 2023-03-31 20:47:14,328]\u001b[0m Trial 17 finished with value: 0.991421568627451 and parameters: {'n_estimators': 145, 'max_depth': 22, 'min_samples_leaf': 2}. Best is trial 17 with value: 0.991421568627451.\u001b[0m\n",
      "\u001b[32m[I 2023-03-31 20:47:20,089]\u001b[0m Trial 18 finished with value: 0.9529051987767584 and parameters: {'n_estimators': 147, 'max_depth': 16, 'min_samples_leaf': 4}. Best is trial 17 with value: 0.991421568627451.\u001b[0m\n",
      "\u001b[32m[I 2023-03-31 20:47:25,752]\u001b[0m Trial 19 finished with value: 0.9571865443425077 and parameters: {'n_estimators': 144, 'max_depth': 23, 'min_samples_leaf': 4}. Best is trial 17 with value: 0.991421568627451.\u001b[0m\n"
     ]
    },
    {
     "name": "stdout",
     "output_type": "stream",
     "text": [
      "CPU times: total: 1min 42s\n",
      "Wall time: 1min 45s\n"
     ]
    }
   ],
   "source": [
    "%%time\n",
    "# cоздаем объект исследования\n",
    "# можем напрямую указать, что нам необходимо максимизировать метрику direction=\"maximize\"\n",
    "study = optuna.create_study(study_name=\"RandomForestClassifier\", direction=\"maximize\")\n",
    "# ищем лучшую комбинацию гиперпараметров n_trials раз\n",
    "study.optimize(optuna_rf, n_trials=20)"
   ]
  },
  {
   "cell_type": "code",
   "execution_count": 35,
   "id": "2cd63498",
   "metadata": {
    "colab": {
     "base_uri": "https://localhost:8080/"
    },
    "executionInfo": {
     "elapsed": 700,
     "status": "ok",
     "timestamp": 1680273742577,
     "user": {
      "displayName": "A Osipov",
      "userId": "00108399569825204503"
     },
     "user_tz": -300
    },
    "id": "2cd63498",
    "outputId": "e5deefba-2392-4ebe-e162-fb15233b358c"
   },
   "outputs": [
    {
     "name": "stdout",
     "output_type": "stream",
     "text": [
      "Наилучшие значения гиперпараметров {'n_estimators': 145, 'max_depth': 22, 'min_samples_leaf': 2}\n",
      "f1_score на обучающем наборе: 0.99\n"
     ]
    }
   ],
   "source": [
    "# выводим результаты на обучающей выборке\n",
    "print(\"Наилучшие значения гиперпараметров {}\".format(study.best_params))\n",
    "print(\"f1_score на обучающем наборе: {:.2f}\".format(study.best_value))"
   ]
  },
  {
   "cell_type": "code",
   "execution_count": 36,
   "id": "81b83b7d",
   "metadata": {
    "colab": {
     "base_uri": "https://localhost:8080/"
    },
    "executionInfo": {
     "elapsed": 4125,
     "status": "ok",
     "timestamp": 1680273750756,
     "user": {
      "displayName": "A Osipov",
      "userId": "00108399569825204503"
     },
     "user_tz": -300
    },
    "id": "81b83b7d",
    "outputId": "f3e00c25-1ae9-402e-fd2b-72e35b3a32dd"
   },
   "outputs": [
    {
     "name": "stdout",
     "output_type": "stream",
     "text": [
      "accuracy на тестовом наборе: 0.80\n",
      "f1_score на тестовом наборе: 0.82\n"
     ]
    }
   ],
   "source": [
    "# рассчитаем точность для тестовой выборки\n",
    "model = ensemble.RandomForestClassifier(**study.best_params, random_state=random_state)\n",
    "model.fit(X_train, y_train)\n",
    "y_train_pred = model.predict(X_train)\n",
    "print(\"accuracy на тестовом наборе: {:.2f}\".format(model.score(X_test, y_test)))\n",
    "y_test_pred = model.predict(X_test)\n",
    "print('f1_score на тестовом наборе: {:.2f}'.format(metrics.f1_score(y_test, y_test_pred)))"
   ]
  },
  {
   "cell_type": "code",
   "execution_count": 37,
   "id": "2d547bba",
   "metadata": {
    "colab": {
     "base_uri": "https://localhost:8080/"
    },
    "executionInfo": {
     "elapsed": 24535,
     "status": "ok",
     "timestamp": 1680273779325,
     "user": {
      "displayName": "A Osipov",
      "userId": "00108399569825204503"
     },
     "user_tz": -300
    },
    "id": "2d547bba",
    "outputId": "f571a86a-0592-4e59-99d4-ddf5267edbb9"
   },
   "outputs": [
    {
     "name": "stderr",
     "output_type": "stream",
     "text": [
      "\u001b[32m[I 2023-03-31 20:47:38,786]\u001b[0m Trial 20 finished with value: 0.9148805878750765 and parameters: {'n_estimators': 172, 'max_depth': 15, 'min_samples_leaf': 8}. Best is trial 17 with value: 0.991421568627451.\u001b[0m\n",
      "\u001b[32m[I 2023-03-31 20:47:44,822]\u001b[0m Trial 21 finished with value: 0.9911179173047474 and parameters: {'n_estimators': 120, 'max_depth': 28, 'min_samples_leaf': 2}. Best is trial 17 with value: 0.991421568627451.\u001b[0m\n",
      "\u001b[32m[I 2023-03-31 20:47:50,426]\u001b[0m Trial 22 finished with value: 0.9908088235294118 and parameters: {'n_estimators': 106, 'max_depth': 21, 'min_samples_leaf': 2}. Best is trial 17 with value: 0.991421568627451.\u001b[0m\n",
      "\u001b[32m[I 2023-03-31 20:48:00,234]\u001b[0m Trial 23 finished with value: 0.9761467889908259 and parameters: {'n_estimators': 124, 'max_depth': 28, 'min_samples_leaf': 3}. Best is trial 17 with value: 0.991421568627451.\u001b[0m\n",
      "\u001b[32m[I 2023-03-31 20:48:04,962]\u001b[0m Trial 24 finished with value: 0.9338640538885488 and parameters: {'n_estimators': 109, 'max_depth': 10, 'min_samples_leaf': 2}. Best is trial 17 with value: 0.991421568627451.\u001b[0m\n",
      "\u001b[32m[I 2023-03-31 20:48:15,562]\u001b[0m Trial 25 finished with value: 0.9755201958384332 and parameters: {'n_estimators': 140, 'max_depth': 25, 'min_samples_leaf': 3}. Best is trial 17 with value: 0.991421568627451.\u001b[0m\n",
      "\u001b[32m[I 2023-03-31 20:48:20,288]\u001b[0m Trial 26 finished with value: 0.945021380574221 and parameters: {'n_estimators': 118, 'max_depth': 28, 'min_samples_leaf': 5}. Best is trial 17 with value: 0.991421568627451.\u001b[0m\n",
      "\u001b[32m[I 2023-03-31 20:48:28,630]\u001b[0m Trial 27 finished with value: 0.9572910311165346 and parameters: {'n_estimators': 189, 'max_depth': 18, 'min_samples_leaf': 4}. Best is trial 17 with value: 0.991421568627451.\u001b[0m\n",
      "\u001b[32m[I 2023-03-31 20:48:33,619]\u001b[0m Trial 28 finished with value: 0.9911179173047474 and parameters: {'n_estimators': 101, 'max_depth': 23, 'min_samples_leaf': 2}. Best is trial 17 with value: 0.991421568627451.\u001b[0m\n",
      "\u001b[32m[I 2023-03-31 20:48:43,824]\u001b[0m Trial 29 finished with value: 0.9779546846295162 and parameters: {'n_estimators': 170, 'max_depth': 27, 'min_samples_leaf': 3}. Best is trial 17 with value: 0.991421568627451.\u001b[0m\n"
     ]
    },
    {
     "name": "stdout",
     "output_type": "stream",
     "text": [
      "CPU times: total: 56.6 s\n",
      "Wall time: 1min 11s\n"
     ]
    }
   ],
   "source": [
    "%%time\n",
    "# можем прододжить подбор, указав n_trials(любое число, которое добавится к предыдущим итерациям) \n",
    "study.optimize(optuna_rf, n_trials=10)"
   ]
  },
  {
   "cell_type": "code",
   "execution_count": 38,
   "id": "2d146219",
   "metadata": {
    "colab": {
     "base_uri": "https://localhost:8080/"
    },
    "executionInfo": {
     "elapsed": 360,
     "status": "ok",
     "timestamp": 1680273782903,
     "user": {
      "displayName": "A Osipov",
      "userId": "00108399569825204503"
     },
     "user_tz": -300
    },
    "id": "2d146219",
    "outputId": "5e5dda24-bcaa-434e-ac0f-7230b9925b10"
   },
   "outputs": [
    {
     "name": "stdout",
     "output_type": "stream",
     "text": [
      "Наилучшие значения гиперпараметров {'n_estimators': 145, 'max_depth': 22, 'min_samples_leaf': 2}\n",
      "f1_score на обучающем наборе: 0.99\n"
     ]
    }
   ],
   "source": [
    "# выводим результаты на обучающей выборке\n",
    "print(\"Наилучшие значения гиперпараметров {}\".format(study.best_params))\n",
    "print(\"f1_score на обучающем наборе: {:.2f}\".format(study.best_value))"
   ]
  },
  {
   "cell_type": "code",
   "execution_count": 39,
   "id": "13976b96",
   "metadata": {
    "colab": {
     "base_uri": "https://localhost:8080/"
    },
    "executionInfo": {
     "elapsed": 2671,
     "status": "ok",
     "timestamp": 1680273797054,
     "user": {
      "displayName": "A Osipov",
      "userId": "00108399569825204503"
     },
     "user_tz": -300
    },
    "id": "13976b96",
    "outputId": "158236fb-536b-4758-caba-0474a53b0950"
   },
   "outputs": [
    {
     "name": "stdout",
     "output_type": "stream",
     "text": [
      "accuracy на тестовом наборе: 0.80\n",
      "f1_score на тестовом наборе: 0.82\n"
     ]
    }
   ],
   "source": [
    "# рассчитаем точность для тестовой выборки\n",
    "model = ensemble.RandomForestClassifier(**study.best_params, random_state=random_state)\n",
    "model.fit(X_train, y_train)\n",
    "y_train_pred = model.predict(X_train)\n",
    "print(\"accuracy на тестовом наборе: {:.2f}\".format(model.score(X_test, y_test)))\n",
    "y_test_pred = model.predict(X_test)\n",
    "print('f1_score на тестовом наборе: {:.2f}'.format(metrics.f1_score(y_test, y_test_pred)))"
   ]
  },
  {
   "cell_type": "markdown",
   "id": "45fa90fc",
   "metadata": {
    "id": "45fa90fc"
   },
   "source": [
    "Добавление 10 итераций никакого улучшения не дало."
   ]
  }
 ],
 "metadata": {
  "colab": {
   "provenance": []
  },
  "kernelspec": {
   "display_name": "Python 3.8.16 ('Find hyperparameters')",
   "language": "python",
   "name": "python3"
  },
  "language_info": {
   "codemirror_mode": {
    "name": "ipython",
    "version": 3
   },
   "file_extension": ".py",
   "mimetype": "text/x-python",
   "name": "python",
   "nbconvert_exporter": "python",
   "pygments_lexer": "ipython3",
   "version": "3.8.16"
  },
  "vscode": {
   "interpreter": {
    "hash": "22cc4f532b2a24c5e4c9a2adc4140794f29b8d606898d33e75a518e6c4a5531c"
   }
  }
 },
 "nbformat": 4,
 "nbformat_minor": 5
}
